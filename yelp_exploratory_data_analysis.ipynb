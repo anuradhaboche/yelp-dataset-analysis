{
  "nbformat": 4,
  "nbformat_minor": 0,
  "metadata": {
    "colab": {
      "name": "yelp_exploratory_data_analysis.ipynb",
      "provenance": [],
      "collapsed_sections": []
    },
    "kernelspec": {
      "name": "python3",
      "display_name": "Python 3"
    }
  },
  "cells": [
    {
      "cell_type": "code",
      "metadata": {
        "id": "JsR2emYDS1ON",
        "colab_type": "code",
        "colab": {}
      },
      "source": [
        "import pandas as pd\n",
        "import os\n",
        "os.environ[\"GOOGLE_APPLICATION_CREDENTIALS\"]= GOOGLE_APPLICATION_CREDENTIALS='/content/drive/My Drive/yelp-language-detection-ab4d472516d3.json'\n",
        "import warnings\n",
        "warnings.filterwarnings(action = 'ignore') "
      ],
      "execution_count": 0,
      "outputs": []
    },
    {
      "cell_type": "code",
      "metadata": {
        "id": "s6kqUx1-S7__",
        "colab_type": "code",
        "colab": {}
      },
      "source": [
        "merged= pd.read_pickle('/content/drive/My Drive/merged.pkl')"
      ],
      "execution_count": 0,
      "outputs": []
    },
    {
      "cell_type": "code",
      "metadata": {
        "id": "QbI0Dn-NV7tX",
        "colab_type": "code",
        "outputId": "60cfc19f-d191-46a0-afb0-c1a396cb3a82",
        "colab": {
          "base_uri": "https://localhost:8080/",
          "height": 668
        }
      },
      "source": [
        "merged.head()"
      ],
      "execution_count": 0,
      "outputs": [
        {
          "output_type": "execute_result",
          "data": {
            "text/html": [
              "<div>\n",
              "<style scoped>\n",
              "    .dataframe tbody tr th:only-of-type {\n",
              "        vertical-align: middle;\n",
              "    }\n",
              "\n",
              "    .dataframe tbody tr th {\n",
              "        vertical-align: top;\n",
              "    }\n",
              "\n",
              "    .dataframe thead th {\n",
              "        text-align: right;\n",
              "    }\n",
              "</style>\n",
              "<table border=\"1\" class=\"dataframe\">\n",
              "  <thead>\n",
              "    <tr style=\"text-align: right;\">\n",
              "      <th></th>\n",
              "      <th>business_id</th>\n",
              "      <th>name</th>\n",
              "      <th>address</th>\n",
              "      <th>city</th>\n",
              "      <th>state</th>\n",
              "      <th>postal_code</th>\n",
              "      <th>latitude</th>\n",
              "      <th>longitude</th>\n",
              "      <th>stars</th>\n",
              "      <th>review_count</th>\n",
              "      <th>is_open</th>\n",
              "      <th>attributes</th>\n",
              "      <th>hours</th>\n",
              "      <th>review_id</th>\n",
              "      <th>user_id</th>\n",
              "      <th>useful</th>\n",
              "      <th>funny</th>\n",
              "      <th>cool</th>\n",
              "      <th>text</th>\n",
              "      <th>date</th>\n",
              "      <th>category</th>\n",
              "    </tr>\n",
              "  </thead>\n",
              "  <tbody>\n",
              "    <tr>\n",
              "      <th>0</th>\n",
              "      <td>gnKjwL_1w79qoiV3IC_xQQ</td>\n",
              "      <td>Musashi Japanese Restaurant</td>\n",
              "      <td>10110 Johnston Rd, Ste 15</td>\n",
              "      <td>Charlotte</td>\n",
              "      <td>NC</td>\n",
              "      <td>28210</td>\n",
              "      <td>35.092564</td>\n",
              "      <td>-80.859132</td>\n",
              "      <td>4.0</td>\n",
              "      <td>170</td>\n",
              "      <td>1</td>\n",
              "      <td>{'GoodForKids': 'True', 'NoiseLevel': 'u'avera...</td>\n",
              "      <td>{'Monday': '17:30-21:30', 'Wednesday': '17:30-...</td>\n",
              "      <td>F7POrJsNbhu493DSTMPXjw</td>\n",
              "      <td>nsS4oDfOsl20QdWc6XcOkw</td>\n",
              "      <td>1</td>\n",
              "      <td>0</td>\n",
              "      <td>0</td>\n",
              "      <td>Husband was craving Chicken Teriyaki &amp; gyoza, ...</td>\n",
              "      <td>2014-02-24 02:51:56</td>\n",
              "      <td>Japanese</td>\n",
              "    </tr>\n",
              "    <tr>\n",
              "      <th>1</th>\n",
              "      <td>gnKjwL_1w79qoiV3IC_xQQ</td>\n",
              "      <td>Musashi Japanese Restaurant</td>\n",
              "      <td>10110 Johnston Rd, Ste 15</td>\n",
              "      <td>Charlotte</td>\n",
              "      <td>NC</td>\n",
              "      <td>28210</td>\n",
              "      <td>35.092564</td>\n",
              "      <td>-80.859132</td>\n",
              "      <td>4.0</td>\n",
              "      <td>170</td>\n",
              "      <td>1</td>\n",
              "      <td>{'GoodForKids': 'True', 'NoiseLevel': 'u'avera...</td>\n",
              "      <td>{'Monday': '17:30-21:30', 'Wednesday': '17:30-...</td>\n",
              "      <td>c-6aA9Bd7JxpmMroRoas9A</td>\n",
              "      <td>bK4Y_GZUoAUTXIrmeEUGYw</td>\n",
              "      <td>0</td>\n",
              "      <td>0</td>\n",
              "      <td>1</td>\n",
              "      <td>Went there Saturday noon they open at 12pm but...</td>\n",
              "      <td>2014-07-13 20:28:18</td>\n",
              "      <td>Japanese</td>\n",
              "    </tr>\n",
              "    <tr>\n",
              "      <th>2</th>\n",
              "      <td>gnKjwL_1w79qoiV3IC_xQQ</td>\n",
              "      <td>Musashi Japanese Restaurant</td>\n",
              "      <td>10110 Johnston Rd, Ste 15</td>\n",
              "      <td>Charlotte</td>\n",
              "      <td>NC</td>\n",
              "      <td>28210</td>\n",
              "      <td>35.092564</td>\n",
              "      <td>-80.859132</td>\n",
              "      <td>4.0</td>\n",
              "      <td>170</td>\n",
              "      <td>1</td>\n",
              "      <td>{'GoodForKids': 'True', 'NoiseLevel': 'u'avera...</td>\n",
              "      <td>{'Monday': '17:30-21:30', 'Wednesday': '17:30-...</td>\n",
              "      <td>P_MV_lMQjLIO9R7M_KIuMg</td>\n",
              "      <td>sbbB6Y4yIZIInvt0LFYYew</td>\n",
              "      <td>1</td>\n",
              "      <td>0</td>\n",
              "      <td>0</td>\n",
              "      <td>Went to this restaurant on Saturday as I had a...</td>\n",
              "      <td>2018-05-09 00:39:36</td>\n",
              "      <td>Japanese</td>\n",
              "    </tr>\n",
              "    <tr>\n",
              "      <th>3</th>\n",
              "      <td>gnKjwL_1w79qoiV3IC_xQQ</td>\n",
              "      <td>Musashi Japanese Restaurant</td>\n",
              "      <td>10110 Johnston Rd, Ste 15</td>\n",
              "      <td>Charlotte</td>\n",
              "      <td>NC</td>\n",
              "      <td>28210</td>\n",
              "      <td>35.092564</td>\n",
              "      <td>-80.859132</td>\n",
              "      <td>4.0</td>\n",
              "      <td>170</td>\n",
              "      <td>1</td>\n",
              "      <td>{'GoodForKids': 'True', 'NoiseLevel': 'u'avera...</td>\n",
              "      <td>{'Monday': '17:30-21:30', 'Wednesday': '17:30-...</td>\n",
              "      <td>dCLBdXP9tjjQG7EkHNeWzQ</td>\n",
              "      <td>hhQUVO2AqBdSeQcPo19Bsw</td>\n",
              "      <td>4</td>\n",
              "      <td>2</td>\n",
              "      <td>3</td>\n",
              "      <td>This place will always have a place in my stom...</td>\n",
              "      <td>2017-10-25 13:58:04</td>\n",
              "      <td>Japanese</td>\n",
              "    </tr>\n",
              "    <tr>\n",
              "      <th>4</th>\n",
              "      <td>gnKjwL_1w79qoiV3IC_xQQ</td>\n",
              "      <td>Musashi Japanese Restaurant</td>\n",
              "      <td>10110 Johnston Rd, Ste 15</td>\n",
              "      <td>Charlotte</td>\n",
              "      <td>NC</td>\n",
              "      <td>28210</td>\n",
              "      <td>35.092564</td>\n",
              "      <td>-80.859132</td>\n",
              "      <td>4.0</td>\n",
              "      <td>170</td>\n",
              "      <td>1</td>\n",
              "      <td>{'GoodForKids': 'True', 'NoiseLevel': 'u'avera...</td>\n",
              "      <td>{'Monday': '17:30-21:30', 'Wednesday': '17:30-...</td>\n",
              "      <td>GiBx0zRVxC1Bu-9R-MMF8w</td>\n",
              "      <td>XSz4svDvgOCRO92V_3ajWg</td>\n",
              "      <td>0</td>\n",
              "      <td>0</td>\n",
              "      <td>0</td>\n",
              "      <td>Well first time I've really had \"authentic\" Ja...</td>\n",
              "      <td>2015-04-02 01:13:36</td>\n",
              "      <td>Japanese</td>\n",
              "    </tr>\n",
              "  </tbody>\n",
              "</table>\n",
              "</div>"
            ],
            "text/plain": [
              "              business_id  ...  category\n",
              "0  gnKjwL_1w79qoiV3IC_xQQ  ...  Japanese\n",
              "1  gnKjwL_1w79qoiV3IC_xQQ  ...  Japanese\n",
              "2  gnKjwL_1w79qoiV3IC_xQQ  ...  Japanese\n",
              "3  gnKjwL_1w79qoiV3IC_xQQ  ...  Japanese\n",
              "4  gnKjwL_1w79qoiV3IC_xQQ  ...  Japanese\n",
              "\n",
              "[5 rows x 21 columns]"
            ]
          },
          "metadata": {
            "tags": []
          },
          "execution_count": 10
        }
      ]
    },
    {
      "cell_type": "code",
      "metadata": {
        "id": "voyuiJiAS8IB",
        "colab_type": "code",
        "outputId": "2b7f8f02-a292-43b4-c488-f0a3c447bae0",
        "colab": {
          "base_uri": "https://localhost:8080/",
          "height": 1000
        }
      },
      "source": [
        "merged.city.unique()"
      ],
      "execution_count": 0,
      "outputs": [
        {
          "output_type": "execute_result",
          "data": {
            "text/plain": [
              "array(['Charlotte', 'Phoenix', 'Mentor-on-the-Lake', 'Las Vegas',\n",
              "       'Pittsburgh', 'West Mifflin', 'North Olmsted', 'Hudson',\n",
              "       'Chandler', 'Concord', 'Henderson', 'Mentor', 'Cleveland', 'Mesa',\n",
              "       'Brunswick', 'Madison', 'Glendale', 'Scottsdale', 'Indian Trail',\n",
              "       'Cave Creek', 'Willoughby', 'Pineville', 'Burton', 'Cornelius',\n",
              "       'Avondale', 'Solon', 'North Las Vegas', 'Surprise', 'Streetsboro',\n",
              "       'Tempe', 'Boulder City', 'Paradise Valley', 'Parma Heights',\n",
              "       'Westlake', 'Champaign', 'Gilbert', 'Middleton', 'Rock Hill',\n",
              "       'Verona', 'Medina', 'McKees Rocks', 'Peoria', 'Cleveland Heights',\n",
              "       'Monroe', 'Parma', 'Fairlawn', 'Avon Lake', 'Wexford',\n",
              "       'Mount Lebanon', 'Glassport', 'New Kensington', 'Bridgeville',\n",
              "       'Harrison City', 'Cuyahoga Falls', 'Tarentum',\n",
              "       'Warrensville Heights', 'Monroeville', 'Sun Lakes', 'Davidson',\n",
              "       'Matthews', 'Gastonia', 'Dallas', 'Huntersville', 'Stoughton',\n",
              "       'University Heights', 'Stow', 'Library', 'Eastlake', 'Akron',\n",
              "       'Urbana', 'Lakewood', 'Broadview Heights', 'Amherst', 'McKeesport',\n",
              "       'Brecksville', 'North Ridgeville', 'Glenshaw', 'Saint Joseph',\n",
              "       'Sun Prairie', 'Fort Mill', 'Waxhaw', 'Independence',\n",
              "       'Middlefield', 'Stallings', 'Belmont', 'Goodyear', 'Monticello',\n",
              "       'Fountain Hills', 'Macedonia', 'Harrisburg', 'Willoughby Hills',\n",
              "       'Lyndhurst', 'Litchfield Park', 'Berea', 'Strongsville',\n",
              "       'Twinsburg', 'Middleburg Heights', 'Robinson Township',\n",
              "       'Allison Park', 'Tallmadge', 'Mayfield Heights', 'Elyria',\n",
              "       'Canonsburg', 'Oakmont', 'White Oak', 'Grand River', 'Homestead',\n",
              "       'Sheffield Village', 'Indian Land', 'Bedford', 'Pepper Pike',\n",
              "       'Tolleson', 'South Park Township', 'Sharpsburg', 'Moon',\n",
              "       'Fitchburg', 'Avon', 'Moon Township', 'Sun City', 'Bellevue',\n",
              "       'Olmsted Township', 'Carnegie', 'Ambridge', 'Woodmere',\n",
              "       'Chagrin Falls', 'Kannapolis', 'Kent', 'West Homestead',\n",
              "       'Orange Village', 'Lowell', 'Chardon', 'Rocky River',\n",
              "       'Queen Creek', 'Norton', 'Cuddy', 'Chesterland', 'North Randall',\n",
              "       'North Royalton', 'Cramerton', 'Leetsdale', 'Peninsula',\n",
              "       'Montrose', 'Hampton Township', 'Painesville', 'El Mirage',\n",
              "       'Bratenahl', 'Gibsonia', 'Rantoul', 'Fairview Park', 'Denver',\n",
              "       'Newbury', 'Beachwood', 'Northfield', 'Euclid', 'Sewickley',\n",
              "       'New Eagle', 'Monongahela', 'Pleasant Hills', 'Elizabeth',\n",
              "       'McMurray', 'North Versailles', 'Tega Cay', 'Waunakee',\n",
              "       'Wadsworth', 'Upper St Clair', 'Coraopolis', 'Monona', 'Lorain',\n",
              "       'Willowick', 'Garfield Heights', 'Anthem', 'Bay Village', 'Avalon',\n",
              "       'Kirtland', 'Brook Park', 'Penn Hills', 'Belleville',\n",
              "       'Concord Mills', 'Bethel Park', 'Brooklyn', 'Brookpark',\n",
              "       'South Las Vegas', 'Murrysville', 'Carefree', 'Seven Hills',\n",
              "       'Irwin', 'Laveen', 'McFarland', 'Lawrenceville', 'Export',\n",
              "       'Sturgeon', 'De Forest', 'Highland Heights', 'Aurora',\n",
              "       'Mount Holly', 'Crafton', 'North Huntingdon', 'N. Las Vegas',\n",
              "       'Buckeye', 'Clover', 'Mantua', 'Gelndale', 'Mount Horeb',\n",
              "       'Imperial', 'Guadalupe', 'Millvale', 'Copley', 'Marshall',\n",
              "       'Weddington', 'Maple Heights', 'Savoy', 'East Cleveland',\n",
              "       'Mcfarland', 'St Joseph', 'West View', 'Oakdale', 'Olmsted Falls',\n",
              "       'McCandless', 'Shaker Heights', 'Valley View', 'Youngtown',\n",
              "       'Wilmerding', 'South Euclid', 'Mint Hill', 'charlotte', 'Cecil',\n",
              "       'Medina Township', 'Robinson Twp.', 'Deforest', 'Forest Hills',\n",
              "       'DeForest', 'Rouses Point', 'Creighton', 'Munhall', 'Cross Plains',\n",
              "       'Jefferson Hills', 'Sun City West', 'Stanley', 'Richmond Heights',\n",
              "       'Mt. Lebanon', 'Sedona', 'Mckees Rocks', 'Richfield',\n",
              "       'Shaler Township', 'Mayfield Village', 'Locust', 'Spring Valley',\n",
              "       'Turtle Creek', 'Wickliffe', 'Braddock', 'Valley City', 'Emsworth',\n",
              "       'Mayfield', 'Lake Wylie', 'Dane', 'Blakeney', 'Lower Burrell',\n",
              "       'Mahomet', 'Clairton', 'Mint  Hill', 'South Park', 'Trafford',\n",
              "       'Etna', 'Higley', 'Mentor On The Lake', 'Windsor', 'Erie',\n",
              "       'Oregon', 'Gates Mills', 'Enterprise', 'Moreland Hills', 'Tolono',\n",
              "       'Grafton', 'Township of Concord', 'Paoli', 'Scottdale',\n",
              "       'McCandless Township', 'Lake Park', 'Mcmurray', 'solon',\n",
              "       'Wesley Chapel', 'Cottage Grove', 'NELLIS AFB', 'Ravenna',\n",
              "       'Mooresville', 'Neville Island', 'Walton Hills', 'Lawrence',\n",
              "       'Mckeesport', 'LasVegas', 'North Olmstead',\n",
              "       'Nellis Air Force Base', 'Ross Township', 'East McKeesport',\n",
              "       'LaGrange', 'Bainbridge', 'Bedford Heights', 'Apache Junction',\n",
              "       'Ahwatukee', 'Aspinwall', 'Pahrump', 'Las  Vegas', 'Ogden',\n",
              "       'McDonald', 'Fairport Harbor', 'Duquesne', 'Indianola',\n",
              "       'Indian land', 'Sagamore Hills', 'Phx', 'Black Earth', 'Brentwood',\n",
              "       'East Mc Keesport', 'Auburn Township', 'Summerlin', 'Auburn Twp',\n",
              "       'East Liberty', 'Pheonix', 'Plum', 'Rural Ridge', 'Plum Boro',\n",
              "       'Edgewood', 'Mc Kees Rocks', 'Midland', 'Homer',\n",
              "       'Northfield Center Township', 'Shorewood Hills',\n",
              "       'Columbia Station', 'Elizabeth Township', 'Painesville Township',\n",
              "       'Harmarville', 'GILBERT', 'Finleyville', 'Heidelberg', 'Crescent',\n",
              "       'Mt. Holly', 'Wilkins Township', 'Lindale', 'Mansfield',\n",
              "       'Hendersonville', 'West Elizabeth', 'Gifford', 'Brookline',\n",
              "       'Springdale', 'Mc Farland', 'Orange', 'York', 'Regent Square',\n",
              "       'Blawnox', 'Hyland Heights', 'McAdenville', 'Fort McDowell',\n",
              "       'Pheonix AZ', 'N Ridgeville', 'Munroe Falls', 'Rillton',\n",
              "       'Concord Twp', 'Tremont', 'Upper Saint Clair', 'Laveen Village',\n",
              "       'Richmond Hts', 'Rio Verde', 'Kennedy Township', 'Lower burrell',\n",
              "       'Toronto', 'Harrisbug', 'Robinson', 'Peters Township', 'Tuscola',\n",
              "       'Ft. Mill', 'Mooers', 'Cuyahoga Heights', 'Oakland', 'Sauk City',\n",
              "       'Bath'], dtype=object)"
            ]
          },
          "metadata": {
            "tags": []
          },
          "execution_count": 11
        }
      ]
    },
    {
      "cell_type": "code",
      "metadata": {
        "id": "dp6wBBHGS-1n",
        "colab_type": "code",
        "outputId": "b20d86b5-37ba-496f-bebb-d41a841b436b",
        "colab": {
          "base_uri": "https://localhost:8080/",
          "height": 447
        }
      },
      "source": [
        "df=merged.groupby(['city']).size().reset_index(name='counts').sort_values(by=['counts'], ascending=False)\n",
        "df"
      ],
      "execution_count": 0,
      "outputs": [
        {
          "output_type": "execute_result",
          "data": {
            "text/html": [
              "<div>\n",
              "<style scoped>\n",
              "    .dataframe tbody tr th:only-of-type {\n",
              "        vertical-align: middle;\n",
              "    }\n",
              "\n",
              "    .dataframe tbody tr th {\n",
              "        vertical-align: top;\n",
              "    }\n",
              "\n",
              "    .dataframe thead th {\n",
              "        text-align: right;\n",
              "    }\n",
              "</style>\n",
              "<table border=\"1\" class=\"dataframe\">\n",
              "  <thead>\n",
              "    <tr style=\"text-align: right;\">\n",
              "      <th></th>\n",
              "      <th>city</th>\n",
              "      <th>counts</th>\n",
              "    </tr>\n",
              "  </thead>\n",
              "  <tbody>\n",
              "    <tr>\n",
              "      <th>155</th>\n",
              "      <td>Las Vegas</td>\n",
              "      <td>834621</td>\n",
              "    </tr>\n",
              "    <tr>\n",
              "      <th>270</th>\n",
              "      <td>Phoenix</td>\n",
              "      <td>291324</td>\n",
              "    </tr>\n",
              "    <tr>\n",
              "      <th>299</th>\n",
              "      <td>Scottsdale</td>\n",
              "      <td>171048</td>\n",
              "    </tr>\n",
              "    <tr>\n",
              "      <th>52</th>\n",
              "      <td>Charlotte</td>\n",
              "      <td>133212</td>\n",
              "    </tr>\n",
              "    <tr>\n",
              "      <th>273</th>\n",
              "      <td>Pittsburgh</td>\n",
              "      <td>113953</td>\n",
              "    </tr>\n",
              "    <tr>\n",
              "      <th>...</th>\n",
              "      <td>...</td>\n",
              "      <td>...</td>\n",
              "    </tr>\n",
              "    <tr>\n",
              "      <th>81</th>\n",
              "      <td>Duquesne</td>\n",
              "      <td>3</td>\n",
              "    </tr>\n",
              "    <tr>\n",
              "      <th>231</th>\n",
              "      <td>Nellis Air Force Base</td>\n",
              "      <td>3</td>\n",
              "    </tr>\n",
              "    <tr>\n",
              "      <th>245</th>\n",
              "      <td>Northfield Center Township</td>\n",
              "      <td>3</td>\n",
              "    </tr>\n",
              "    <tr>\n",
              "      <th>276</th>\n",
              "      <td>Plum Boro</td>\n",
              "      <td>3</td>\n",
              "    </tr>\n",
              "    <tr>\n",
              "      <th>336</th>\n",
              "      <td>Township of Concord</td>\n",
              "      <td>3</td>\n",
              "    </tr>\n",
              "  </tbody>\n",
              "</table>\n",
              "<p>375 rows × 2 columns</p>\n",
              "</div>"
            ],
            "text/plain": [
              "                           city  counts\n",
              "155                   Las Vegas  834621\n",
              "270                     Phoenix  291324\n",
              "299                  Scottsdale  171048\n",
              "52                    Charlotte  133212\n",
              "273                  Pittsburgh  113953\n",
              "..                          ...     ...\n",
              "81                     Duquesne       3\n",
              "231       Nellis Air Force Base       3\n",
              "245  Northfield Center Township       3\n",
              "276                   Plum Boro       3\n",
              "336         Township of Concord       3\n",
              "\n",
              "[375 rows x 2 columns]"
            ]
          },
          "metadata": {
            "tags": []
          },
          "execution_count": 12
        }
      ]
    },
    {
      "cell_type": "code",
      "metadata": {
        "id": "BmnuMTTRTBD5",
        "colab_type": "code",
        "outputId": "d8e4cc4e-22de-4c05-cd54-44cbee1fb17e",
        "colab": {
          "base_uri": "https://localhost:8080/",
          "height": 260
        }
      },
      "source": [
        "df.loc[df.city.str.contains('Vegas')] "
      ],
      "execution_count": 0,
      "outputs": [
        {
          "output_type": "execute_result",
          "data": {
            "text/html": [
              "<div>\n",
              "<style scoped>\n",
              "    .dataframe tbody tr th:only-of-type {\n",
              "        vertical-align: middle;\n",
              "    }\n",
              "\n",
              "    .dataframe tbody tr th {\n",
              "        vertical-align: top;\n",
              "    }\n",
              "\n",
              "    .dataframe thead th {\n",
              "        text-align: right;\n",
              "    }\n",
              "</style>\n",
              "<table border=\"1\" class=\"dataframe\">\n",
              "  <thead>\n",
              "    <tr style=\"text-align: right;\">\n",
              "      <th></th>\n",
              "      <th>city</th>\n",
              "      <th>counts</th>\n",
              "    </tr>\n",
              "  </thead>\n",
              "  <tbody>\n",
              "    <tr>\n",
              "      <th>155</th>\n",
              "      <td>Las Vegas</td>\n",
              "      <td>834621</td>\n",
              "    </tr>\n",
              "    <tr>\n",
              "      <th>237</th>\n",
              "      <td>North Las Vegas</td>\n",
              "      <td>15232</td>\n",
              "    </tr>\n",
              "    <tr>\n",
              "      <th>310</th>\n",
              "      <td>South Las Vegas</td>\n",
              "      <td>620</td>\n",
              "    </tr>\n",
              "    <tr>\n",
              "      <th>154</th>\n",
              "      <td>Las  Vegas</td>\n",
              "      <td>343</td>\n",
              "    </tr>\n",
              "    <tr>\n",
              "      <th>229</th>\n",
              "      <td>N. Las Vegas</td>\n",
              "      <td>273</td>\n",
              "    </tr>\n",
              "    <tr>\n",
              "      <th>156</th>\n",
              "      <td>LasVegas</td>\n",
              "      <td>248</td>\n",
              "    </tr>\n",
              "  </tbody>\n",
              "</table>\n",
              "</div>"
            ],
            "text/plain": [
              "                city  counts\n",
              "155        Las Vegas  834621\n",
              "237  North Las Vegas   15232\n",
              "310  South Las Vegas     620\n",
              "154       Las  Vegas     343\n",
              "229     N. Las Vegas     273\n",
              "156         LasVegas     248"
            ]
          },
          "metadata": {
            "tags": []
          },
          "execution_count": 13
        }
      ]
    },
    {
      "cell_type": "code",
      "metadata": {
        "id": "CivOwHtnDuV8",
        "colab_type": "code",
        "colab": {}
      },
      "source": [
        "merged=merged[merged['is_open']==1]"
      ],
      "execution_count": 0,
      "outputs": []
    },
    {
      "cell_type": "code",
      "metadata": {
        "id": "E2ECIeQaEFUX",
        "colab_type": "code",
        "outputId": "dbd621e0-9ecc-4512-8b5f-63ebf68ad24d",
        "colab": {
          "base_uri": "https://localhost:8080/",
          "height": 55
        }
      },
      "source": [
        "merged.shape"
      ],
      "execution_count": 0,
      "outputs": [
        {
          "output_type": "execute_result",
          "data": {
            "text/plain": [
              "(1986731, 21)"
            ]
          },
          "metadata": {
            "tags": []
          },
          "execution_count": 15
        }
      ]
    },
    {
      "cell_type": "code",
      "metadata": {
        "id": "cVKLm7FzTGXt",
        "colab_type": "code",
        "colab": {}
      },
      "source": [
        "las_vegas_data=merged[merged['city']== 'Las Vegas'].reset_index(drop=True)"
      ],
      "execution_count": 0,
      "outputs": []
    },
    {
      "cell_type": "code",
      "metadata": {
        "id": "gtd6ewiZEwQR",
        "colab_type": "code",
        "outputId": "d9824e32-6943-40eb-adb2-487c04e77f56",
        "colab": {
          "base_uri": "https://localhost:8080/",
          "height": 55
        }
      },
      "source": [
        "las_vegas_data.shape"
      ],
      "execution_count": 0,
      "outputs": [
        {
          "output_type": "execute_result",
          "data": {
            "text/plain": [
              "(712594, 21)"
            ]
          },
          "metadata": {
            "tags": []
          },
          "execution_count": 17
        }
      ]
    },
    {
      "cell_type": "code",
      "metadata": {
        "id": "_RiMUZWMTKtR",
        "colab_type": "code",
        "colab": {}
      },
      "source": [
        "las_vegas_data=las_vegas_data[['business_id','review_id','stars','latitude','longitude', 'text','postal_code','category']]"
      ],
      "execution_count": 0,
      "outputs": []
    },
    {
      "cell_type": "code",
      "metadata": {
        "id": "wtHChbpFTLot",
        "colab_type": "code",
        "colab": {}
      },
      "source": [
        "las_vegas_data.to_pickle('/content/drive/My Drive/las_vegas_data.pkl')"
      ],
      "execution_count": 0,
      "outputs": []
    },
    {
      "cell_type": "code",
      "metadata": {
        "id": "xb_7nWRDFIfc",
        "colab_type": "code",
        "colab": {}
      },
      "source": [
        "# from google.cloud import translate\n",
        "\n",
        "# translate_client = translate.Client()\n",
        "# merged_x=merged.head(5)\n",
        "# # merged_x['language'] =''\n",
        "# # response= merged_x.text.apply(lambda text:translate_client.detect_language(text))\n",
        "\n",
        "# merged_x['language']=merged_x['text'].apply(translate_client.detect_language)\n",
        "# # if \"'language': 'en'\" in merged_x['language'].str:\n",
        "# if merged_x['language'].str.find(\"'language': 'en'\"):\n",
        "#   merged_x['language']='English'\n",
        "# else:\n",
        "#   merged_x['language']='Non English'\n"
      ],
      "execution_count": 0,
      "outputs": []
    },
    {
      "cell_type": "code",
      "metadata": {
        "id": "UZWkJvq-dZhF",
        "colab_type": "code",
        "colab": {}
      },
      "source": [
        "from google.cloud import translate\n",
        "translate_client = translate.Client()\n",
        "merged_x=merged.head(5)\n",
        "merged_x['language']=merged_x['text'].apply(translate_client.detect_language)\n"
      ],
      "execution_count": 0,
      "outputs": []
    },
    {
      "cell_type": "code",
      "metadata": {
        "id": "QjqLsnlOxsBK",
        "colab_type": "code",
        "outputId": "42446b89-1c02-49a6-b811-7747090b5770",
        "colab": {
          "base_uri": "https://localhost:8080/",
          "height": 143
        }
      },
      "source": [
        "merged_x['language']"
      ],
      "execution_count": 0,
      "outputs": [
        {
          "output_type": "execute_result",
          "data": {
            "text/plain": [
              "0    {'language': 'en', 'confidence': 1, 'input': '...\n",
              "1    {'confidence': 1, 'language': 'en', 'input': '...\n",
              "2    {'confidence': 1, 'language': 'en', 'input': '...\n",
              "3    {'confidence': 1, 'language': 'en', 'input': '...\n",
              "4    {'confidence': 1, 'language': 'en', 'input': '...\n",
              "Name: language, dtype: object"
            ]
          },
          "metadata": {
            "tags": []
          },
          "execution_count": 163
        }
      ]
    },
    {
      "cell_type": "code",
      "metadata": {
        "id": "k-oQLoEVxtPj",
        "colab_type": "code",
        "colab": {}
      },
      "source": [
        ""
      ],
      "execution_count": 0,
      "outputs": []
    }
  ]
}