{
  "nbformat": 4,
  "nbformat_minor": 0,
  "metadata": {
    "colab": {
      "name": "yelp-exploratory-data-analysis.ipynb",
      "provenance": [],
      "collapsed_sections": []
    },
    "kernelspec": {
      "name": "python3",
      "display_name": "Python 3"
    }
  },
  "cells": [
    {
      "cell_type": "code",
      "metadata": {
        "id": "JsR2emYDS1ON",
        "colab_type": "code",
        "colab": {}
      },
      "source": [
        "import pandas as pd\n"
      ],
      "execution_count": 0,
      "outputs": []
    },
    {
      "cell_type": "code",
      "metadata": {
        "id": "s6kqUx1-S7__",
        "colab_type": "code",
        "colab": {}
      },
      "source": [
        "merged= pd.read_pickle('/content/drive/My Drive/merged.pkl')"
      ],
      "execution_count": 0,
      "outputs": []
    },
    {
      "cell_type": "code",
      "metadata": {
        "id": "QbI0Dn-NV7tX",
        "colab_type": "code",
        "outputId": "f7ce1324-c61f-44a1-dd9e-33fb4534b295",
        "colab": {
          "base_uri": "https://localhost:8080/",
          "height": 634
        }
      },
      "source": [
        "merged.head()"
      ],
      "execution_count": 0,
      "outputs": [
        {
          "output_type": "execute_result",
          "data": {
            "text/html": [
              "<div>\n",
              "<style scoped>\n",
              "    .dataframe tbody tr th:only-of-type {\n",
              "        vertical-align: middle;\n",
              "    }\n",
              "\n",
              "    .dataframe tbody tr th {\n",
              "        vertical-align: top;\n",
              "    }\n",
              "\n",
              "    .dataframe thead th {\n",
              "        text-align: right;\n",
              "    }\n",
              "</style>\n",
              "<table border=\"1\" class=\"dataframe\">\n",
              "  <thead>\n",
              "    <tr style=\"text-align: right;\">\n",
              "      <th></th>\n",
              "      <th>business_id</th>\n",
              "      <th>name</th>\n",
              "      <th>address</th>\n",
              "      <th>city</th>\n",
              "      <th>state</th>\n",
              "      <th>postal_code</th>\n",
              "      <th>latitude</th>\n",
              "      <th>longitude</th>\n",
              "      <th>stars</th>\n",
              "      <th>review_count</th>\n",
              "      <th>is_open</th>\n",
              "      <th>attributes</th>\n",
              "      <th>hours</th>\n",
              "      <th>review_id</th>\n",
              "      <th>user_id</th>\n",
              "      <th>useful</th>\n",
              "      <th>funny</th>\n",
              "      <th>cool</th>\n",
              "      <th>text</th>\n",
              "      <th>date</th>\n",
              "      <th>category</th>\n",
              "    </tr>\n",
              "  </thead>\n",
              "  <tbody>\n",
              "    <tr>\n",
              "      <th>0</th>\n",
              "      <td>gnKjwL_1w79qoiV3IC_xQQ</td>\n",
              "      <td>Musashi Japanese Restaurant</td>\n",
              "      <td>10110 Johnston Rd, Ste 15</td>\n",
              "      <td>Charlotte</td>\n",
              "      <td>NC</td>\n",
              "      <td>28210</td>\n",
              "      <td>35.092564</td>\n",
              "      <td>-80.859132</td>\n",
              "      <td>4.0</td>\n",
              "      <td>170</td>\n",
              "      <td>1</td>\n",
              "      <td>{'GoodForKids': 'True', 'NoiseLevel': 'u'avera...</td>\n",
              "      <td>{'Monday': '17:30-21:30', 'Wednesday': '17:30-...</td>\n",
              "      <td>F7POrJsNbhu493DSTMPXjw</td>\n",
              "      <td>nsS4oDfOsl20QdWc6XcOkw</td>\n",
              "      <td>1</td>\n",
              "      <td>0</td>\n",
              "      <td>0</td>\n",
              "      <td>Husband was craving Chicken Teriyaki &amp; gyoza, ...</td>\n",
              "      <td>2014-02-24 02:51:56</td>\n",
              "      <td>Japanese</td>\n",
              "    </tr>\n",
              "    <tr>\n",
              "      <th>1</th>\n",
              "      <td>gnKjwL_1w79qoiV3IC_xQQ</td>\n",
              "      <td>Musashi Japanese Restaurant</td>\n",
              "      <td>10110 Johnston Rd, Ste 15</td>\n",
              "      <td>Charlotte</td>\n",
              "      <td>NC</td>\n",
              "      <td>28210</td>\n",
              "      <td>35.092564</td>\n",
              "      <td>-80.859132</td>\n",
              "      <td>4.0</td>\n",
              "      <td>170</td>\n",
              "      <td>1</td>\n",
              "      <td>{'GoodForKids': 'True', 'NoiseLevel': 'u'avera...</td>\n",
              "      <td>{'Monday': '17:30-21:30', 'Wednesday': '17:30-...</td>\n",
              "      <td>c-6aA9Bd7JxpmMroRoas9A</td>\n",
              "      <td>bK4Y_GZUoAUTXIrmeEUGYw</td>\n",
              "      <td>0</td>\n",
              "      <td>0</td>\n",
              "      <td>1</td>\n",
              "      <td>Went there Saturday noon they open at 12pm but...</td>\n",
              "      <td>2014-07-13 20:28:18</td>\n",
              "      <td>Japanese</td>\n",
              "    </tr>\n",
              "    <tr>\n",
              "      <th>2</th>\n",
              "      <td>gnKjwL_1w79qoiV3IC_xQQ</td>\n",
              "      <td>Musashi Japanese Restaurant</td>\n",
              "      <td>10110 Johnston Rd, Ste 15</td>\n",
              "      <td>Charlotte</td>\n",
              "      <td>NC</td>\n",
              "      <td>28210</td>\n",
              "      <td>35.092564</td>\n",
              "      <td>-80.859132</td>\n",
              "      <td>4.0</td>\n",
              "      <td>170</td>\n",
              "      <td>1</td>\n",
              "      <td>{'GoodForKids': 'True', 'NoiseLevel': 'u'avera...</td>\n",
              "      <td>{'Monday': '17:30-21:30', 'Wednesday': '17:30-...</td>\n",
              "      <td>P_MV_lMQjLIO9R7M_KIuMg</td>\n",
              "      <td>sbbB6Y4yIZIInvt0LFYYew</td>\n",
              "      <td>1</td>\n",
              "      <td>0</td>\n",
              "      <td>0</td>\n",
              "      <td>Went to this restaurant on Saturday as I had a...</td>\n",
              "      <td>2018-05-09 00:39:36</td>\n",
              "      <td>Japanese</td>\n",
              "    </tr>\n",
              "    <tr>\n",
              "      <th>3</th>\n",
              "      <td>gnKjwL_1w79qoiV3IC_xQQ</td>\n",
              "      <td>Musashi Japanese Restaurant</td>\n",
              "      <td>10110 Johnston Rd, Ste 15</td>\n",
              "      <td>Charlotte</td>\n",
              "      <td>NC</td>\n",
              "      <td>28210</td>\n",
              "      <td>35.092564</td>\n",
              "      <td>-80.859132</td>\n",
              "      <td>4.0</td>\n",
              "      <td>170</td>\n",
              "      <td>1</td>\n",
              "      <td>{'GoodForKids': 'True', 'NoiseLevel': 'u'avera...</td>\n",
              "      <td>{'Monday': '17:30-21:30', 'Wednesday': '17:30-...</td>\n",
              "      <td>dCLBdXP9tjjQG7EkHNeWzQ</td>\n",
              "      <td>hhQUVO2AqBdSeQcPo19Bsw</td>\n",
              "      <td>4</td>\n",
              "      <td>2</td>\n",
              "      <td>3</td>\n",
              "      <td>This place will always have a place in my stom...</td>\n",
              "      <td>2017-10-25 13:58:04</td>\n",
              "      <td>Japanese</td>\n",
              "    </tr>\n",
              "    <tr>\n",
              "      <th>4</th>\n",
              "      <td>gnKjwL_1w79qoiV3IC_xQQ</td>\n",
              "      <td>Musashi Japanese Restaurant</td>\n",
              "      <td>10110 Johnston Rd, Ste 15</td>\n",
              "      <td>Charlotte</td>\n",
              "      <td>NC</td>\n",
              "      <td>28210</td>\n",
              "      <td>35.092564</td>\n",
              "      <td>-80.859132</td>\n",
              "      <td>4.0</td>\n",
              "      <td>170</td>\n",
              "      <td>1</td>\n",
              "      <td>{'GoodForKids': 'True', 'NoiseLevel': 'u'avera...</td>\n",
              "      <td>{'Monday': '17:30-21:30', 'Wednesday': '17:30-...</td>\n",
              "      <td>GiBx0zRVxC1Bu-9R-MMF8w</td>\n",
              "      <td>XSz4svDvgOCRO92V_3ajWg</td>\n",
              "      <td>0</td>\n",
              "      <td>0</td>\n",
              "      <td>0</td>\n",
              "      <td>Well first time I've really had \"authentic\" Ja...</td>\n",
              "      <td>2015-04-02 01:13:36</td>\n",
              "      <td>Japanese</td>\n",
              "    </tr>\n",
              "  </tbody>\n",
              "</table>\n",
              "</div>"
            ],
            "text/plain": [
              "              business_id  ...  category\n",
              "0  gnKjwL_1w79qoiV3IC_xQQ  ...  Japanese\n",
              "1  gnKjwL_1w79qoiV3IC_xQQ  ...  Japanese\n",
              "2  gnKjwL_1w79qoiV3IC_xQQ  ...  Japanese\n",
              "3  gnKjwL_1w79qoiV3IC_xQQ  ...  Japanese\n",
              "4  gnKjwL_1w79qoiV3IC_xQQ  ...  Japanese\n",
              "\n",
              "[5 rows x 21 columns]"
            ]
          },
          "metadata": {
            "tags": []
          },
          "execution_count": 6
        }
      ]
    },
    {
      "cell_type": "code",
      "metadata": {
        "id": "voyuiJiAS8IB",
        "colab_type": "code",
        "colab": {}
      },
      "source": [
        "merged.city.unique()"
      ],
      "execution_count": 0,
      "outputs": []
    },
    {
      "cell_type": "code",
      "metadata": {
        "id": "dp6wBBHGS-1n",
        "colab_type": "code",
        "outputId": "7706ecb3-eb7a-41f5-b22e-0d91a0f09338",
        "colab": {
          "base_uri": "https://localhost:8080/",
          "height": 433
        }
      },
      "source": [
        "df=merged.groupby(['city']).size().reset_index(name='counts').sort_values(by=['counts'], ascending=False)\n",
        "df"
      ],
      "execution_count": 0,
      "outputs": [
        {
          "output_type": "execute_result",
          "data": {
            "text/html": [
              "<div>\n",
              "<style scoped>\n",
              "    .dataframe tbody tr th:only-of-type {\n",
              "        vertical-align: middle;\n",
              "    }\n",
              "\n",
              "    .dataframe tbody tr th {\n",
              "        vertical-align: top;\n",
              "    }\n",
              "\n",
              "    .dataframe thead th {\n",
              "        text-align: right;\n",
              "    }\n",
              "</style>\n",
              "<table border=\"1\" class=\"dataframe\">\n",
              "  <thead>\n",
              "    <tr style=\"text-align: right;\">\n",
              "      <th></th>\n",
              "      <th>city</th>\n",
              "      <th>counts</th>\n",
              "    </tr>\n",
              "  </thead>\n",
              "  <tbody>\n",
              "    <tr>\n",
              "      <th>155</th>\n",
              "      <td>Las Vegas</td>\n",
              "      <td>834621</td>\n",
              "    </tr>\n",
              "    <tr>\n",
              "      <th>270</th>\n",
              "      <td>Phoenix</td>\n",
              "      <td>291324</td>\n",
              "    </tr>\n",
              "    <tr>\n",
              "      <th>299</th>\n",
              "      <td>Scottsdale</td>\n",
              "      <td>171048</td>\n",
              "    </tr>\n",
              "    <tr>\n",
              "      <th>52</th>\n",
              "      <td>Charlotte</td>\n",
              "      <td>133212</td>\n",
              "    </tr>\n",
              "    <tr>\n",
              "      <th>273</th>\n",
              "      <td>Pittsburgh</td>\n",
              "      <td>113953</td>\n",
              "    </tr>\n",
              "    <tr>\n",
              "      <th>...</th>\n",
              "      <td>...</td>\n",
              "      <td>...</td>\n",
              "    </tr>\n",
              "    <tr>\n",
              "      <th>81</th>\n",
              "      <td>Duquesne</td>\n",
              "      <td>3</td>\n",
              "    </tr>\n",
              "    <tr>\n",
              "      <th>231</th>\n",
              "      <td>Nellis Air Force Base</td>\n",
              "      <td>3</td>\n",
              "    </tr>\n",
              "    <tr>\n",
              "      <th>245</th>\n",
              "      <td>Northfield Center Township</td>\n",
              "      <td>3</td>\n",
              "    </tr>\n",
              "    <tr>\n",
              "      <th>276</th>\n",
              "      <td>Plum Boro</td>\n",
              "      <td>3</td>\n",
              "    </tr>\n",
              "    <tr>\n",
              "      <th>336</th>\n",
              "      <td>Township of Concord</td>\n",
              "      <td>3</td>\n",
              "    </tr>\n",
              "  </tbody>\n",
              "</table>\n",
              "<p>375 rows × 2 columns</p>\n",
              "</div>"
            ],
            "text/plain": [
              "                           city  counts\n",
              "155                   Las Vegas  834621\n",
              "270                     Phoenix  291324\n",
              "299                  Scottsdale  171048\n",
              "52                    Charlotte  133212\n",
              "273                  Pittsburgh  113953\n",
              "..                          ...     ...\n",
              "81                     Duquesne       3\n",
              "231       Nellis Air Force Base       3\n",
              "245  Northfield Center Township       3\n",
              "276                   Plum Boro       3\n",
              "336         Township of Concord       3\n",
              "\n",
              "[375 rows x 2 columns]"
            ]
          },
          "metadata": {
            "tags": []
          },
          "execution_count": 10
        }
      ]
    },
    {
      "cell_type": "code",
      "metadata": {
        "id": "BmnuMTTRTBD5",
        "colab_type": "code",
        "outputId": "84d01be6-e9ba-4850-e8d2-f643fadab480",
        "colab": {
          "base_uri": "https://localhost:8080/",
          "height": 252
        }
      },
      "source": [
        "df.loc[df.city.str.contains('Vegas')] "
      ],
      "execution_count": 0,
      "outputs": [
        {
          "output_type": "execute_result",
          "data": {
            "text/html": [
              "<div>\n",
              "<style scoped>\n",
              "    .dataframe tbody tr th:only-of-type {\n",
              "        vertical-align: middle;\n",
              "    }\n",
              "\n",
              "    .dataframe tbody tr th {\n",
              "        vertical-align: top;\n",
              "    }\n",
              "\n",
              "    .dataframe thead th {\n",
              "        text-align: right;\n",
              "    }\n",
              "</style>\n",
              "<table border=\"1\" class=\"dataframe\">\n",
              "  <thead>\n",
              "    <tr style=\"text-align: right;\">\n",
              "      <th></th>\n",
              "      <th>city</th>\n",
              "      <th>counts</th>\n",
              "    </tr>\n",
              "  </thead>\n",
              "  <tbody>\n",
              "    <tr>\n",
              "      <th>155</th>\n",
              "      <td>Las Vegas</td>\n",
              "      <td>834621</td>\n",
              "    </tr>\n",
              "    <tr>\n",
              "      <th>237</th>\n",
              "      <td>North Las Vegas</td>\n",
              "      <td>15232</td>\n",
              "    </tr>\n",
              "    <tr>\n",
              "      <th>310</th>\n",
              "      <td>South Las Vegas</td>\n",
              "      <td>620</td>\n",
              "    </tr>\n",
              "    <tr>\n",
              "      <th>154</th>\n",
              "      <td>Las  Vegas</td>\n",
              "      <td>343</td>\n",
              "    </tr>\n",
              "    <tr>\n",
              "      <th>229</th>\n",
              "      <td>N. Las Vegas</td>\n",
              "      <td>273</td>\n",
              "    </tr>\n",
              "    <tr>\n",
              "      <th>156</th>\n",
              "      <td>LasVegas</td>\n",
              "      <td>248</td>\n",
              "    </tr>\n",
              "  </tbody>\n",
              "</table>\n",
              "</div>"
            ],
            "text/plain": [
              "                city  counts\n",
              "155        Las Vegas  834621\n",
              "237  North Las Vegas   15232\n",
              "310  South Las Vegas     620\n",
              "154       Las  Vegas     343\n",
              "229     N. Las Vegas     273\n",
              "156         LasVegas     248"
            ]
          },
          "metadata": {
            "tags": []
          },
          "execution_count": 9
        }
      ]
    },
    {
      "cell_type": "code",
      "metadata": {
        "id": "cVKLm7FzTGXt",
        "colab_type": "code",
        "colab": {}
      },
      "source": [
        "las_vegas_data=merged[merged['city']== 'Las Vegas'].reset_index(drop=True)"
      ],
      "execution_count": 0,
      "outputs": []
    },
    {
      "cell_type": "code",
      "metadata": {
        "id": "_RiMUZWMTKtR",
        "colab_type": "code",
        "colab": {}
      },
      "source": [
        "las_vegas_data=las_vegas_data[['business_id','review_id','stars', 'text']]"
      ],
      "execution_count": 0,
      "outputs": []
    },
    {
      "cell_type": "code",
      "metadata": {
        "id": "wtHChbpFTLot",
        "colab_type": "code",
        "colab": {}
      },
      "source": [
        "las_vegas_data.to_pickle('/content/drive/My Drive/las_vegas_data.pkl')"
      ],
      "execution_count": 0,
      "outputs": []
    },
    {
      "cell_type": "code",
      "metadata": {
        "id": "cRXDzFoBTTX1",
        "colab_type": "code",
        "colab": {}
      },
      "source": [
        ""
      ],
      "execution_count": 0,
      "outputs": []
    }
  ]
}