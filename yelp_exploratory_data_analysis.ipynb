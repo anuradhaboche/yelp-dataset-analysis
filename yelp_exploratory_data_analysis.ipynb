{
  "nbformat": 4,
  "nbformat_minor": 0,
  "metadata": {
    "colab": {
      "name": "yelp_exploratory_data_analysis.ipynb",
      "provenance": [],
      "collapsed_sections": []
    },
    "kernelspec": {
      "name": "python3",
      "display_name": "Python 3"
    }
  },
  "cells": [
    {
      "cell_type": "code",
      "metadata": {
        "id": "JsR2emYDS1ON",
        "colab_type": "code",
        "colab": {}
      },
      "source": [
        "import pandas as pd\n",
        "import os\n",
        "os.environ[\"GOOGLE_APPLICATION_CREDENTIALS\"]= GOOGLE_APPLICATION_CREDENTIALS='/content/drive/My Drive/yelp-language-detection-ab4d472516d3.json'\n",
        "import warnings\n",
        "warnings.filterwarnings(action = 'ignore') "
      ],
      "execution_count": 0,
      "outputs": []
    },
    {
      "cell_type": "code",
      "metadata": {
        "id": "s6kqUx1-S7__",
        "colab_type": "code",
        "colab": {}
      },
      "source": [
        "merged= pd.read_pickle('/content/drive/My Drive/merged.pkl')"
      ],
      "execution_count": 0,
      "outputs": []
    },
    {
      "cell_type": "code",
      "metadata": {
        "id": "QbI0Dn-NV7tX",
        "colab_type": "code",
        "outputId": "fd8cc08e-ace4-4684-d8db-178bb4bc3bd2",
        "colab": {
          "base_uri": "https://localhost:8080/",
          "height": 668
        }
      },
      "source": [
        "merged.head()"
      ],
      "execution_count": 0,
      "outputs": [
        {
          "output_type": "execute_result",
          "data": {
            "text/html": [
              "<div>\n",
              "<style scoped>\n",
              "    .dataframe tbody tr th:only-of-type {\n",
              "        vertical-align: middle;\n",
              "    }\n",
              "\n",
              "    .dataframe tbody tr th {\n",
              "        vertical-align: top;\n",
              "    }\n",
              "\n",
              "    .dataframe thead th {\n",
              "        text-align: right;\n",
              "    }\n",
              "</style>\n",
              "<table border=\"1\" class=\"dataframe\">\n",
              "  <thead>\n",
              "    <tr style=\"text-align: right;\">\n",
              "      <th></th>\n",
              "      <th>business_id</th>\n",
              "      <th>name</th>\n",
              "      <th>address</th>\n",
              "      <th>city</th>\n",
              "      <th>state</th>\n",
              "      <th>postal_code</th>\n",
              "      <th>latitude</th>\n",
              "      <th>longitude</th>\n",
              "      <th>stars</th>\n",
              "      <th>review_count</th>\n",
              "      <th>is_open</th>\n",
              "      <th>attributes</th>\n",
              "      <th>hours</th>\n",
              "      <th>review_id</th>\n",
              "      <th>user_id</th>\n",
              "      <th>useful</th>\n",
              "      <th>funny</th>\n",
              "      <th>cool</th>\n",
              "      <th>text</th>\n",
              "      <th>date</th>\n",
              "      <th>category</th>\n",
              "    </tr>\n",
              "  </thead>\n",
              "  <tbody>\n",
              "    <tr>\n",
              "      <th>0</th>\n",
              "      <td>gnKjwL_1w79qoiV3IC_xQQ</td>\n",
              "      <td>Musashi Japanese Restaurant</td>\n",
              "      <td>10110 Johnston Rd, Ste 15</td>\n",
              "      <td>Charlotte</td>\n",
              "      <td>NC</td>\n",
              "      <td>28210</td>\n",
              "      <td>35.092564</td>\n",
              "      <td>-80.859132</td>\n",
              "      <td>4.0</td>\n",
              "      <td>170</td>\n",
              "      <td>1</td>\n",
              "      <td>{'GoodForKids': 'True', 'NoiseLevel': 'u'avera...</td>\n",
              "      <td>{'Monday': '17:30-21:30', 'Wednesday': '17:30-...</td>\n",
              "      <td>F7POrJsNbhu493DSTMPXjw</td>\n",
              "      <td>nsS4oDfOsl20QdWc6XcOkw</td>\n",
              "      <td>1</td>\n",
              "      <td>0</td>\n",
              "      <td>0</td>\n",
              "      <td>Husband was craving Chicken Teriyaki &amp; gyoza, ...</td>\n",
              "      <td>2014-02-24 02:51:56</td>\n",
              "      <td>Japanese</td>\n",
              "    </tr>\n",
              "    <tr>\n",
              "      <th>1</th>\n",
              "      <td>gnKjwL_1w79qoiV3IC_xQQ</td>\n",
              "      <td>Musashi Japanese Restaurant</td>\n",
              "      <td>10110 Johnston Rd, Ste 15</td>\n",
              "      <td>Charlotte</td>\n",
              "      <td>NC</td>\n",
              "      <td>28210</td>\n",
              "      <td>35.092564</td>\n",
              "      <td>-80.859132</td>\n",
              "      <td>4.0</td>\n",
              "      <td>170</td>\n",
              "      <td>1</td>\n",
              "      <td>{'GoodForKids': 'True', 'NoiseLevel': 'u'avera...</td>\n",
              "      <td>{'Monday': '17:30-21:30', 'Wednesday': '17:30-...</td>\n",
              "      <td>c-6aA9Bd7JxpmMroRoas9A</td>\n",
              "      <td>bK4Y_GZUoAUTXIrmeEUGYw</td>\n",
              "      <td>0</td>\n",
              "      <td>0</td>\n",
              "      <td>1</td>\n",
              "      <td>Went there Saturday noon they open at 12pm but...</td>\n",
              "      <td>2014-07-13 20:28:18</td>\n",
              "      <td>Japanese</td>\n",
              "    </tr>\n",
              "    <tr>\n",
              "      <th>2</th>\n",
              "      <td>gnKjwL_1w79qoiV3IC_xQQ</td>\n",
              "      <td>Musashi Japanese Restaurant</td>\n",
              "      <td>10110 Johnston Rd, Ste 15</td>\n",
              "      <td>Charlotte</td>\n",
              "      <td>NC</td>\n",
              "      <td>28210</td>\n",
              "      <td>35.092564</td>\n",
              "      <td>-80.859132</td>\n",
              "      <td>4.0</td>\n",
              "      <td>170</td>\n",
              "      <td>1</td>\n",
              "      <td>{'GoodForKids': 'True', 'NoiseLevel': 'u'avera...</td>\n",
              "      <td>{'Monday': '17:30-21:30', 'Wednesday': '17:30-...</td>\n",
              "      <td>P_MV_lMQjLIO9R7M_KIuMg</td>\n",
              "      <td>sbbB6Y4yIZIInvt0LFYYew</td>\n",
              "      <td>1</td>\n",
              "      <td>0</td>\n",
              "      <td>0</td>\n",
              "      <td>Went to this restaurant on Saturday as I had a...</td>\n",
              "      <td>2018-05-09 00:39:36</td>\n",
              "      <td>Japanese</td>\n",
              "    </tr>\n",
              "    <tr>\n",
              "      <th>3</th>\n",
              "      <td>gnKjwL_1w79qoiV3IC_xQQ</td>\n",
              "      <td>Musashi Japanese Restaurant</td>\n",
              "      <td>10110 Johnston Rd, Ste 15</td>\n",
              "      <td>Charlotte</td>\n",
              "      <td>NC</td>\n",
              "      <td>28210</td>\n",
              "      <td>35.092564</td>\n",
              "      <td>-80.859132</td>\n",
              "      <td>4.0</td>\n",
              "      <td>170</td>\n",
              "      <td>1</td>\n",
              "      <td>{'GoodForKids': 'True', 'NoiseLevel': 'u'avera...</td>\n",
              "      <td>{'Monday': '17:30-21:30', 'Wednesday': '17:30-...</td>\n",
              "      <td>dCLBdXP9tjjQG7EkHNeWzQ</td>\n",
              "      <td>hhQUVO2AqBdSeQcPo19Bsw</td>\n",
              "      <td>4</td>\n",
              "      <td>2</td>\n",
              "      <td>3</td>\n",
              "      <td>This place will always have a place in my stom...</td>\n",
              "      <td>2017-10-25 13:58:04</td>\n",
              "      <td>Japanese</td>\n",
              "    </tr>\n",
              "    <tr>\n",
              "      <th>4</th>\n",
              "      <td>gnKjwL_1w79qoiV3IC_xQQ</td>\n",
              "      <td>Musashi Japanese Restaurant</td>\n",
              "      <td>10110 Johnston Rd, Ste 15</td>\n",
              "      <td>Charlotte</td>\n",
              "      <td>NC</td>\n",
              "      <td>28210</td>\n",
              "      <td>35.092564</td>\n",
              "      <td>-80.859132</td>\n",
              "      <td>4.0</td>\n",
              "      <td>170</td>\n",
              "      <td>1</td>\n",
              "      <td>{'GoodForKids': 'True', 'NoiseLevel': 'u'avera...</td>\n",
              "      <td>{'Monday': '17:30-21:30', 'Wednesday': '17:30-...</td>\n",
              "      <td>GiBx0zRVxC1Bu-9R-MMF8w</td>\n",
              "      <td>XSz4svDvgOCRO92V_3ajWg</td>\n",
              "      <td>0</td>\n",
              "      <td>0</td>\n",
              "      <td>0</td>\n",
              "      <td>Well first time I've really had \"authentic\" Ja...</td>\n",
              "      <td>2015-04-02 01:13:36</td>\n",
              "      <td>Japanese</td>\n",
              "    </tr>\n",
              "  </tbody>\n",
              "</table>\n",
              "</div>"
            ],
            "text/plain": [
              "              business_id  ...  category\n",
              "0  gnKjwL_1w79qoiV3IC_xQQ  ...  Japanese\n",
              "1  gnKjwL_1w79qoiV3IC_xQQ  ...  Japanese\n",
              "2  gnKjwL_1w79qoiV3IC_xQQ  ...  Japanese\n",
              "3  gnKjwL_1w79qoiV3IC_xQQ  ...  Japanese\n",
              "4  gnKjwL_1w79qoiV3IC_xQQ  ...  Japanese\n",
              "\n",
              "[5 rows x 21 columns]"
            ]
          },
          "metadata": {
            "tags": []
          },
          "execution_count": 5
        }
      ]
    },
    {
      "cell_type": "code",
      "metadata": {
        "id": "voyuiJiAS8IB",
        "colab_type": "code",
        "colab": {}
      },
      "source": [
        "merged.city.unique()"
      ],
      "execution_count": 0,
      "outputs": []
    },
    {
      "cell_type": "code",
      "metadata": {
        "id": "dp6wBBHGS-1n",
        "colab_type": "code",
        "colab": {}
      },
      "source": [
        "df=merged.groupby(['city']).size().reset_index(name='counts').sort_values(by=['counts'], ascending=False)\n",
        "df"
      ],
      "execution_count": 0,
      "outputs": []
    },
    {
      "cell_type": "code",
      "metadata": {
        "id": "BmnuMTTRTBD5",
        "colab_type": "code",
        "outputId": "fcd6a03b-48db-402c-dda8-a57621d96754",
        "colab": {
          "base_uri": "https://localhost:8080/",
          "height": 260
        }
      },
      "source": [
        "df.loc[df.city.str.contains('Vegas')] "
      ],
      "execution_count": 0,
      "outputs": [
        {
          "output_type": "execute_result",
          "data": {
            "text/html": [
              "<div>\n",
              "<style scoped>\n",
              "    .dataframe tbody tr th:only-of-type {\n",
              "        vertical-align: middle;\n",
              "    }\n",
              "\n",
              "    .dataframe tbody tr th {\n",
              "        vertical-align: top;\n",
              "    }\n",
              "\n",
              "    .dataframe thead th {\n",
              "        text-align: right;\n",
              "    }\n",
              "</style>\n",
              "<table border=\"1\" class=\"dataframe\">\n",
              "  <thead>\n",
              "    <tr style=\"text-align: right;\">\n",
              "      <th></th>\n",
              "      <th>city</th>\n",
              "      <th>counts</th>\n",
              "    </tr>\n",
              "  </thead>\n",
              "  <tbody>\n",
              "    <tr>\n",
              "      <th>155</th>\n",
              "      <td>Las Vegas</td>\n",
              "      <td>834621</td>\n",
              "    </tr>\n",
              "    <tr>\n",
              "      <th>237</th>\n",
              "      <td>North Las Vegas</td>\n",
              "      <td>15232</td>\n",
              "    </tr>\n",
              "    <tr>\n",
              "      <th>310</th>\n",
              "      <td>South Las Vegas</td>\n",
              "      <td>620</td>\n",
              "    </tr>\n",
              "    <tr>\n",
              "      <th>154</th>\n",
              "      <td>Las  Vegas</td>\n",
              "      <td>343</td>\n",
              "    </tr>\n",
              "    <tr>\n",
              "      <th>229</th>\n",
              "      <td>N. Las Vegas</td>\n",
              "      <td>273</td>\n",
              "    </tr>\n",
              "    <tr>\n",
              "      <th>156</th>\n",
              "      <td>LasVegas</td>\n",
              "      <td>248</td>\n",
              "    </tr>\n",
              "  </tbody>\n",
              "</table>\n",
              "</div>"
            ],
            "text/plain": [
              "                city  counts\n",
              "155        Las Vegas  834621\n",
              "237  North Las Vegas   15232\n",
              "310  South Las Vegas     620\n",
              "154       Las  Vegas     343\n",
              "229     N. Las Vegas     273\n",
              "156         LasVegas     248"
            ]
          },
          "metadata": {
            "tags": []
          },
          "execution_count": 8
        }
      ]
    },
    {
      "cell_type": "code",
      "metadata": {
        "id": "CivOwHtnDuV8",
        "colab_type": "code",
        "colab": {}
      },
      "source": [
        "merged=merged[merged['is_open']==1]"
      ],
      "execution_count": 0,
      "outputs": []
    },
    {
      "cell_type": "code",
      "metadata": {
        "id": "E2ECIeQaEFUX",
        "colab_type": "code",
        "outputId": "69baf4b5-450e-417e-b3ca-1a27ee4c37ac",
        "colab": {
          "base_uri": "https://localhost:8080/",
          "height": 55
        }
      },
      "source": [
        "merged.shape"
      ],
      "execution_count": 0,
      "outputs": [
        {
          "output_type": "execute_result",
          "data": {
            "text/plain": [
              "(1986731, 21)"
            ]
          },
          "metadata": {
            "tags": []
          },
          "execution_count": 19
        }
      ]
    },
    {
      "cell_type": "code",
      "metadata": {
        "id": "cVKLm7FzTGXt",
        "colab_type": "code",
        "colab": {}
      },
      "source": [
        "las_vegas_data=merged[merged['city']== 'Las Vegas'].reset_index(drop=True)"
      ],
      "execution_count": 0,
      "outputs": []
    },
    {
      "cell_type": "code",
      "metadata": {
        "id": "gtd6ewiZEwQR",
        "colab_type": "code",
        "outputId": "29dd2e11-ba7d-4ba0-84fb-5a2304fb771e",
        "colab": {
          "base_uri": "https://localhost:8080/",
          "height": 55
        }
      },
      "source": [
        "las_vegas_data.shape"
      ],
      "execution_count": 0,
      "outputs": [
        {
          "output_type": "execute_result",
          "data": {
            "text/plain": [
              "(712594, 4)"
            ]
          },
          "metadata": {
            "tags": []
          },
          "execution_count": 21
        }
      ]
    },
    {
      "cell_type": "code",
      "metadata": {
        "id": "_RiMUZWMTKtR",
        "colab_type": "code",
        "colab": {}
      },
      "source": [
        "las_vegas_data=las_vegas_data[['business_id','review_id','stars', 'text']]"
      ],
      "execution_count": 0,
      "outputs": []
    },
    {
      "cell_type": "code",
      "metadata": {
        "id": "wtHChbpFTLot",
        "colab_type": "code",
        "colab": {}
      },
      "source": [
        "las_vegas_data.to_pickle('/content/drive/My Drive/las_vegas_data.pkl')"
      ],
      "execution_count": 0,
      "outputs": []
    },
    {
      "cell_type": "code",
      "metadata": {
        "id": "xb_7nWRDFIfc",
        "colab_type": "code",
        "colab": {}
      },
      "source": [
        "# from google.cloud import translate\n",
        "\n",
        "# translate_client = translate.Client()\n",
        "# merged_x=merged.head(5)\n",
        "# # merged_x['language'] =''\n",
        "# # response= merged_x.text.apply(lambda text:translate_client.detect_language(text))\n",
        "\n",
        "# merged_x['language']=merged_x['text'].apply(translate_client.detect_language)\n",
        "# # if \"'language': 'en'\" in merged_x['language'].str:\n",
        "# if merged_x['language'].str.find(\"'language': 'en'\"):\n",
        "#   merged_x['language']='English'\n",
        "# else:\n",
        "#   merged_x['language']='Non English'\n"
      ],
      "execution_count": 0,
      "outputs": []
    },
    {
      "cell_type": "code",
      "metadata": {
        "id": "UZWkJvq-dZhF",
        "colab_type": "code",
        "colab": {}
      },
      "source": [
        "from google.cloud import translate\n",
        "translate_client = translate.Client()\n",
        "merged_x=merged.head(5)\n",
        "merged_x['language']=merged_x['text'].apply(translate_client.detect_language)\n"
      ],
      "execution_count": 0,
      "outputs": []
    },
    {
      "cell_type": "code",
      "metadata": {
        "id": "QjqLsnlOxsBK",
        "colab_type": "code",
        "outputId": "42446b89-1c02-49a6-b811-7747090b5770",
        "colab": {
          "base_uri": "https://localhost:8080/",
          "height": 143
        }
      },
      "source": [
        "merged_x['language']"
      ],
      "execution_count": 0,
      "outputs": [
        {
          "output_type": "execute_result",
          "data": {
            "text/plain": [
              "0    {'language': 'en', 'confidence': 1, 'input': '...\n",
              "1    {'confidence': 1, 'language': 'en', 'input': '...\n",
              "2    {'confidence': 1, 'language': 'en', 'input': '...\n",
              "3    {'confidence': 1, 'language': 'en', 'input': '...\n",
              "4    {'confidence': 1, 'language': 'en', 'input': '...\n",
              "Name: language, dtype: object"
            ]
          },
          "metadata": {
            "tags": []
          },
          "execution_count": 163
        }
      ]
    },
    {
      "cell_type": "code",
      "metadata": {
        "id": "k-oQLoEVxtPj",
        "colab_type": "code",
        "colab": {}
      },
      "source": [
        ""
      ],
      "execution_count": 0,
      "outputs": []
    }
  ]
}