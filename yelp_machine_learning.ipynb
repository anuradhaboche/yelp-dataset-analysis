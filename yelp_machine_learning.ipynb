{
  "nbformat": 4,
  "nbformat_minor": 0,
  "metadata": {
    "colab": {
      "name": "yelp-machine-learning.ipynb",
      "provenance": [],
      "collapsed_sections": []
    },
    "kernelspec": {
      "name": "python3",
      "display_name": "Python 3"
    }
  },
  "cells": [
    {
      "cell_type": "code",
      "metadata": {
        "id": "E-t0JckzeDdr",
        "colab_type": "code",
        "colab": {}
      },
      "source": [
        "import pandas as pd\n",
        "import numpy as np\n",
        "import re\n",
        "import time\n",
        "import warnings\n",
        "from sklearn.feature_extraction.text import TfidfVectorizer\n",
        "from sklearn.svm import LinearSVC\n",
        "warnings.filterwarnings(action = 'ignore') \n"
      ],
      "execution_count": 0,
      "outputs": []
    },
    {
      "cell_type": "code",
      "metadata": {
        "id": "OQkfCtffdzFs",
        "colab_type": "code",
        "colab": {
          "base_uri": "https://localhost:8080/",
          "height": 728
        },
        "outputId": "62a8b6a5-d146-44d3-d425-589c43229a00"
      },
      "source": [
        "las_vegas_data= pd.read_pickle('/content/drive/My Drive/las_vegas_data_tokenized.pkl')\n",
        "las_vegas_data"
      ],
      "execution_count": 5,
      "outputs": [
        {
          "output_type": "execute_result",
          "data": {
            "text/html": [
              "<div>\n",
              "<style scoped>\n",
              "    .dataframe tbody tr th:only-of-type {\n",
              "        vertical-align: middle;\n",
              "    }\n",
              "\n",
              "    .dataframe tbody tr th {\n",
              "        vertical-align: top;\n",
              "    }\n",
              "\n",
              "    .dataframe thead th {\n",
              "        text-align: right;\n",
              "    }\n",
              "</style>\n",
              "<table border=\"1\" class=\"dataframe\">\n",
              "  <thead>\n",
              "    <tr style=\"text-align: right;\">\n",
              "      <th></th>\n",
              "      <th>business_id</th>\n",
              "      <th>review_id</th>\n",
              "      <th>stars</th>\n",
              "      <th>text</th>\n",
              "      <th>tokenized_text</th>\n",
              "      <th>label</th>\n",
              "      <th>polarity</th>\n",
              "    </tr>\n",
              "  </thead>\n",
              "  <tbody>\n",
              "    <tr>\n",
              "      <th>0</th>\n",
              "      <td>tstimHoMcYbkSC4eBA1wEg</td>\n",
              "      <td>iWFBGYotfzwiLsOka0e1Rw</td>\n",
              "      <td>4.5</td>\n",
              "      <td>we found out about this gem from the mans cowo...</td>\n",
              "      <td>[found, gem, man, coworker, used, live, apt, c...</td>\n",
              "      <td>positive</td>\n",
              "      <td>0.238242</td>\n",
              "    </tr>\n",
              "    <tr>\n",
              "      <th>1</th>\n",
              "      <td>tstimHoMcYbkSC4eBA1wEg</td>\n",
              "      <td>QhiVo4F8MFSoz1T7YggcXA</td>\n",
              "      <td>4.5</td>\n",
              "      <td>the chips are a fried corn tortilla which were...</td>\n",
              "      <td>[chip, fried, corn, tortilla, surprisingly, am...</td>\n",
              "      <td>positive</td>\n",
              "      <td>0.342857</td>\n",
              "    </tr>\n",
              "    <tr>\n",
              "      <th>2</th>\n",
              "      <td>tstimHoMcYbkSC4eBA1wEg</td>\n",
              "      <td>FUv-c5CkLy71yFTGLrp2ag</td>\n",
              "      <td>4.5</td>\n",
              "      <td>the pollo mole is well worth the trip out here...</td>\n",
              "      <td>[pollo, mole, well, worth, trip, service, frie...</td>\n",
              "      <td>positive</td>\n",
              "      <td>0.377083</td>\n",
              "    </tr>\n",
              "    <tr>\n",
              "      <th>3</th>\n",
              "      <td>tstimHoMcYbkSC4eBA1wEg</td>\n",
              "      <td>lJfGtkCc4in6Xcq-_Wtfwg</td>\n",
              "      <td>4.5</td>\n",
              "      <td>ive ordered caldo de rez from here twice and b...</td>\n",
              "      <td>[ive, ordered, caldo, de, rez, twice, time, fo...</td>\n",
              "      <td>positive</td>\n",
              "      <td>0.109524</td>\n",
              "    </tr>\n",
              "    <tr>\n",
              "      <th>4</th>\n",
              "      <td>tstimHoMcYbkSC4eBA1wEg</td>\n",
              "      <td>BKoH9aG1ZjUjy2brzkxzJw</td>\n",
              "      <td>4.5</td>\n",
              "      <td>my boyfriend doesnt like mexican food yet he l...</td>\n",
              "      <td>[boyfriend, doesnt, like, mexican, food, yet, ...</td>\n",
              "      <td>positive</td>\n",
              "      <td>0.245631</td>\n",
              "    </tr>\n",
              "    <tr>\n",
              "      <th>...</th>\n",
              "      <td>...</td>\n",
              "      <td>...</td>\n",
              "      <td>...</td>\n",
              "      <td>...</td>\n",
              "      <td>...</td>\n",
              "      <td>...</td>\n",
              "      <td>...</td>\n",
              "    </tr>\n",
              "    <tr>\n",
              "      <th>712589</th>\n",
              "      <td>p5rpYtxS5xPQjt3MXYVEwA</td>\n",
              "      <td>M5Z6ju1IxgXyHbuTB4b0Ew</td>\n",
              "      <td>4.0</td>\n",
              "      <td>weak to say the least nobody knows whats going...</td>\n",
              "      <td>[weak, say, least, nobody, know, whats, going,...</td>\n",
              "      <td>positive</td>\n",
              "      <td>-0.229167</td>\n",
              "    </tr>\n",
              "    <tr>\n",
              "      <th>712590</th>\n",
              "      <td>p5rpYtxS5xPQjt3MXYVEwA</td>\n",
              "      <td>pn5TS8GiEs0iE_O1dTkWuQ</td>\n",
              "      <td>4.0</td>\n",
              "      <td>i ordered the chicken quinoa salad i cant beli...</td>\n",
              "      <td>[ordered, chicken, quinoa, salad, cant, believ...</td>\n",
              "      <td>positive</td>\n",
              "      <td>0.257778</td>\n",
              "    </tr>\n",
              "    <tr>\n",
              "      <th>712591</th>\n",
              "      <td>p5rpYtxS5xPQjt3MXYVEwA</td>\n",
              "      <td>ACUg1ScLb6pwL6jJyp65-w</td>\n",
              "      <td>4.0</td>\n",
              "      <td>i love this place salmon with steamed asparagu...</td>\n",
              "      <td>[love, place, salmon, steamed, asparagus, brow...</td>\n",
              "      <td>positive</td>\n",
              "      <td>0.471875</td>\n",
              "    </tr>\n",
              "    <tr>\n",
              "      <th>712592</th>\n",
              "      <td>p5rpYtxS5xPQjt3MXYVEwA</td>\n",
              "      <td>_51tDhnA8WJY8VmUg1Cu6w</td>\n",
              "      <td>4.0</td>\n",
              "      <td>this is my go to spot when im too lazy to find...</td>\n",
              "      <td>[go, spot, im, lazy, find, food, food, smoothy...</td>\n",
              "      <td>positive</td>\n",
              "      <td>0.173333</td>\n",
              "    </tr>\n",
              "    <tr>\n",
              "      <th>712593</th>\n",
              "      <td>p5rpYtxS5xPQjt3MXYVEwA</td>\n",
              "      <td>PUKKFmFVY7WScEh4zHpIRQ</td>\n",
              "      <td>4.0</td>\n",
              "      <td>greens and proteins on eastern ave is a great ...</td>\n",
              "      <td>[green, protein, eastern, ave, great, place, g...</td>\n",
              "      <td>positive</td>\n",
              "      <td>0.459737</td>\n",
              "    </tr>\n",
              "  </tbody>\n",
              "</table>\n",
              "<p>709847 rows × 7 columns</p>\n",
              "</div>"
            ],
            "text/plain": [
              "                   business_id               review_id  ...     label  polarity\n",
              "0       tstimHoMcYbkSC4eBA1wEg  iWFBGYotfzwiLsOka0e1Rw  ...  positive  0.238242\n",
              "1       tstimHoMcYbkSC4eBA1wEg  QhiVo4F8MFSoz1T7YggcXA  ...  positive  0.342857\n",
              "2       tstimHoMcYbkSC4eBA1wEg  FUv-c5CkLy71yFTGLrp2ag  ...  positive  0.377083\n",
              "3       tstimHoMcYbkSC4eBA1wEg  lJfGtkCc4in6Xcq-_Wtfwg  ...  positive  0.109524\n",
              "4       tstimHoMcYbkSC4eBA1wEg  BKoH9aG1ZjUjy2brzkxzJw  ...  positive  0.245631\n",
              "...                        ...                     ...  ...       ...       ...\n",
              "712589  p5rpYtxS5xPQjt3MXYVEwA  M5Z6ju1IxgXyHbuTB4b0Ew  ...  positive -0.229167\n",
              "712590  p5rpYtxS5xPQjt3MXYVEwA  pn5TS8GiEs0iE_O1dTkWuQ  ...  positive  0.257778\n",
              "712591  p5rpYtxS5xPQjt3MXYVEwA  ACUg1ScLb6pwL6jJyp65-w  ...  positive  0.471875\n",
              "712592  p5rpYtxS5xPQjt3MXYVEwA  _51tDhnA8WJY8VmUg1Cu6w  ...  positive  0.173333\n",
              "712593  p5rpYtxS5xPQjt3MXYVEwA  PUKKFmFVY7WScEh4zHpIRQ  ...  positive  0.459737\n",
              "\n",
              "[709847 rows x 7 columns]"
            ]
          },
          "metadata": {
            "tags": []
          },
          "execution_count": 5
        }
      ]
    },
    {
      "cell_type": "code",
      "metadata": {
        "id": "RtsKIDn9d3jP",
        "colab_type": "code",
        "outputId": "8f70c449-7744-4553-9c71-b6991f146c43",
        "colab": {
          "base_uri": "https://localhost:8080/",
          "height": 55
        }
      },
      "source": [
        "start= time.time()\n",
        "vector = TfidfVectorizer(tokenizer=lambda doc: doc, lowercase=False)\n",
        "vectorizer= vector.fit_transform(las_vegas_data['tokenized_text'])\n",
        "print(\"Time to load data: {} seconds\".format(time.time() - start))\n",
        "# vectorizer.vocabulary_\n",
        "# len(vectorizer.vocabulary_)"
      ],
      "execution_count": 7,
      "outputs": [
        {
          "output_type": "stream",
          "text": [
            "Time to load data: 26.239797353744507 seconds\n"
          ],
          "name": "stdout"
        }
      ]
    },
    {
      "cell_type": "code",
      "metadata": {
        "id": "psb9ux3FuclI",
        "colab_type": "code",
        "colab": {}
      },
      "source": [
        "vector.get_feature_names()"
      ],
      "execution_count": 0,
      "outputs": []
    },
    {
      "cell_type": "code",
      "metadata": {
        "id": "RvmbukSXd6O1",
        "colab_type": "code",
        "outputId": "47a4104b-4bb4-414a-adb9-5cb233849317",
        "colab": {
          "base_uri": "https://localhost:8080/",
          "height": 336
        }
      },
      "source": [
        "from sklearn.model_selection import cross_val_score\n",
        "from sklearn import metrics\n",
        "from sklearn.svm import LinearSVC\n",
        "scores= pd.DataFrame()\n",
        "\n",
        "C= [0.1,1,10,100,1000]\n",
        "X=vectorizer\n",
        "y=las_vegas_data['label']\n",
        "dict_accuracy = {}\n",
        "# dict_roc ={}\n",
        "\n",
        "start= time.time()\n",
        "for c in C:\n",
        "  dict_accuracy[c] = []\n",
        "  # dict_roc[c] = []\n",
        "  print('Started for C=',c)\n",
        "  svm = LinearSVC(dual=False, max_iter=10000, C=c).fit(X, y)\n",
        "  print('Finished Modeling for C=',c)\n",
        "  acc_scores = cross_val_score(svm, X, y, cv=5, scoring='accuracy') \n",
        "  # roc_scores = cross_val_score(svm, X, y, cv=5, scoring='f1_macro')\n",
        "  dict_accuracy[c].append(acc_scores)\n",
        "  # roc_scores[c].append(roc_scores)\n",
        "  print('Stored c and scores for C=',c)\n",
        "  print('Finished for C=', c)\n",
        "\n",
        "print(\"Time to load data: {} seconds\".format(time.time() - start))"
      ],
      "execution_count": 8,
      "outputs": [
        {
          "output_type": "stream",
          "text": [
            "Started for C= 0.1\n",
            "Finished Modeling for C= 0.1\n",
            "Stored c and scores for C= 0.1\n",
            "Finished for C= 0.1\n",
            "Started for C= 1\n",
            "Finished Modeling for C= 1\n",
            "Stored c and scores for C= 1\n",
            "Finished for C= 1\n",
            "Started for C= 10\n",
            "Finished Modeling for C= 10\n",
            "Stored c and scores for C= 10\n",
            "Finished for C= 10\n",
            "Started for C= 100\n",
            "Finished Modeling for C= 100\n",
            "Stored c and scores for C= 100\n",
            "Finished for C= 100\n",
            "Time to load data: 1591.330164194107 seconds\n"
          ],
          "name": "stdout"
        }
      ]
    },
    {
      "cell_type": "code",
      "metadata": {
        "id": "EL2MACyTutBy",
        "colab_type": "code",
        "colab": {
          "base_uri": "https://localhost:8080/",
          "height": 407
        },
        "outputId": "75937feb-a134-408c-a853-3deee598ec67"
      },
      "source": [
        "from sklearn.decomposition import TruncatedSVD\n",
        "from sklearn.model_selection import train_test_split\n",
        "from sklearn.preprocessing import StandardScaler\n",
        "\n",
        "dict_accuracy_pca = {}\n",
        "dict_accuracy_pca = {}\n",
        "X=vectorizer\n",
        "y=las_vegas_data['label']\n",
        "\n",
        "svd = TruncatedSVD(n_components=5, n_iter=7, random_state=42).fit(X)\n",
        "\n",
        "start= time.time()\n",
        "for components in range(1,5):\n",
        "  print('Started for Component=',components)\n",
        "  reducedX = svd.transform((X))\n",
        "  print('Finished PCA for Component=',components)\n",
        "  dict_accuracy_pca[components] =[]\n",
        "  svm_pca = LinearSVC(dual=False, max_iter=10000).fit(reducedX, y)\n",
        "  print('Finished modelling for Component=',components)\n",
        "  scores_pca = cross_val_score(svm_pca, reducedX, y,cv=5, scoring='accuracy')\n",
        "  print('Stored component and scores for Component=',components)\n",
        "  dict_accuracy_pca[components].append(scores_pca)\n",
        "  print('Finished for Component=',components)\n",
        "\n",
        "print(\"Time to load data: {} seconds\".format(time.time() - start))"
      ],
      "execution_count": 34,
      "outputs": [
        {
          "output_type": "stream",
          "text": [
            "Started for Component= 1\n",
            "Finished PCA for Component= 1\n",
            "Finished modelling for Component= 1\n",
            "Stored component and scores for Component= 1\n",
            "Finished for Component= 1\n",
            "Started for Component= 2\n",
            "Finished PCA for Component= 2\n",
            "Finished modelling for Component= 2\n",
            "Stored component and scores for Component= 2\n",
            "Finished for Component= 2\n",
            "Started for Component= 3\n",
            "Finished PCA for Component= 3\n",
            "Finished modelling for Component= 3\n",
            "Stored component and scores for Component= 3\n",
            "Finished for Component= 3\n",
            "Started for Component= 4\n",
            "Finished PCA for Component= 4\n",
            "Finished modelling for Component= 4\n",
            "Stored component and scores for Component= 4\n",
            "Finished for Component= 4\n",
            "Time to load data: 47.33081126213074 seconds\n"
          ],
          "name": "stdout"
        }
      ]
    },
    {
      "cell_type": "code",
      "metadata": {
        "id": "woQ3-ubs1go-",
        "colab_type": "code",
        "colab": {
          "base_uri": "https://localhost:8080/",
          "height": 108
        },
        "outputId": "4b5fbb7a-90f6-45be-845d-059688755008"
      },
      "source": [
        "dict_accuracy_pca"
      ],
      "execution_count": 36,
      "outputs": [
        {
          "output_type": "execute_result",
          "data": {
            "text/plain": [
              "{1: [array([0.95542016, 0.95542016, 0.95541985, 0.95541985, 0.95541985])],\n",
              " 2: [array([0.95542016, 0.95542016, 0.95541985, 0.95541985, 0.95541985])],\n",
              " 3: [array([0.95542016, 0.95542016, 0.95541985, 0.95541985, 0.95541985])],\n",
              " 4: [array([0.95542016, 0.95542016, 0.95541985, 0.95541985, 0.95541985])]}"
            ]
          },
          "metadata": {
            "tags": []
          },
          "execution_count": 36
        }
      ]
    },
    {
      "cell_type": "code",
      "metadata": {
        "id": "mj8jgNm6tY0I",
        "colab_type": "code",
        "colab": {}
      },
      "source": [
        "import matplotlib.pyplot as plt\n",
        "fig, ax = plt.subplots(figsize=(6,4))\n",
        "# ax2 = ax.twinx()\n",
        "for c, x in dict_accuracy.items(): \n",
        "    non_avg_score = {k:np.mean(np.array(v)) for k,v in dict_accuracy.items()}\n",
        "    pca_avg_score = {k:np.mean(np.array(v)) for k,v in dict_accuracy_pca.items()}\n",
        "    acc_list = sorted(non_avg_score.items())\n",
        "    pca_list = sorted(pca_avg_score.items())\n",
        "    x_plot, y_plot = zip(*acc_list)\n",
        "    x, y = zip(*pca_list)\n",
        "    ax.plot(x_plot, y_plot, color='orange',marker='d',markersize=10)\n",
        "    ax.plot(x, y, color='green',marker='d',markersize=10)\n",
        "plt.subplot(1, 2, 1)\n",
        "ax.set_ylabel('Accuracy',fontsize=10)\n",
        "ax.legend(['Accuracy'],loc='upper right',fontsize=15)\n",
        "ax.set_xlabel('C- values',fontsize=10)\n",
        "plt.subplot(1, 2, 2)\n",
        "ax.set_ylabel('ROC AUC Score',fontsize=10)\n",
        "ax.legend(['Roc- Auc'],loc='upper right',fontsize=15)\n",
        "ax.set_xlabel('C- values',fontsize=10)\n",
        "plt.title(\"Accuracy score vs C- values without PCA\")\n",
        "ax.set_xscale('log')\n",
        "plt.show()\n"
      ],
      "execution_count": 0,
      "outputs": []
    },
    {
      "cell_type": "code",
      "metadata": {
        "id": "SGLiyJAgd8u8",
        "colab_type": "code",
        "colab": {}
      },
      "source": [
        "import matplotlib.pyplot as plt\n",
        "def plot_coefficients(classifier, feature_names, top_features=20):\n",
        " coef = classifier.coef_.ravel()\n",
        " top_positive_coefficients = np.argsort(coef)[-top_features:]\n",
        " top_negative_coefficients = np.argsort(coef)[:top_features]\n",
        " top_coefficients = np.hstack([top_negative_coefficients, top_positive_coefficients])\n",
        " # create plot\n",
        " plt.figure(figsize=(15, 5))\n",
        " colors = ['orange' if c < 0 else 'green' for c in coef[top_coefficients]]\n",
        " plt.bar(np.arange(2 * top_features), coef[top_coefficients], color=colors)\n",
        " feature_names = np.array(feature_names)\n",
        " plt.xticks(np.arange(1, 1 + 2 * top_features), feature_names[top_coefficients], rotation=60, ha='right')\n",
        " plt.show()"
      ],
      "execution_count": 0,
      "outputs": []
    },
    {
      "cell_type": "code",
      "metadata": {
        "id": "WTagBaLrd8zi",
        "colab_type": "code",
        "outputId": "5a65091c-99c0-4dc3-c92a-e661607a67a5",
        "colab": {
          "base_uri": "https://localhost:8080/",
          "height": 729
        }
      },
      "source": [
        "plot_coefficients(svm_pca, vector.get_feature_names())\n",
        "# las_vegas_coefs= pd.DataFrame({'score': svm.coef_[0], 'words': vector.get_feature_names()})\n",
        "# las_vegas_coefs.set_index('words', inplace=True)\n",
        "# las_vegas_coefs= las_vegas_coefs.sort_values(by='score', ascending=False)"
      ],
      "execution_count": 31,
      "outputs": [
        {
          "output_type": "error",
          "ename": "ValueError",
          "evalue": "ignored",
          "traceback": [
            "\u001b[0;31m---------------------------------------------------------------------------\u001b[0m",
            "\u001b[0;31mValueError\u001b[0m                                Traceback (most recent call last)",
            "\u001b[0;32m<ipython-input-31-642d9dac65c9>\u001b[0m in \u001b[0;36m<module>\u001b[0;34m()\u001b[0m\n\u001b[0;32m----> 1\u001b[0;31m \u001b[0mplot_coefficients\u001b[0m\u001b[0;34m(\u001b[0m\u001b[0msvm_pca\u001b[0m\u001b[0;34m,\u001b[0m \u001b[0mvector\u001b[0m\u001b[0;34m.\u001b[0m\u001b[0mget_feature_names\u001b[0m\u001b[0;34m(\u001b[0m\u001b[0;34m)\u001b[0m\u001b[0;34m)\u001b[0m\u001b[0;34m\u001b[0m\u001b[0;34m\u001b[0m\u001b[0m\n\u001b[0m\u001b[1;32m      2\u001b[0m \u001b[0;31m# las_vegas_coefs= pd.DataFrame({'score': svm.coef_[0], 'words': vector.get_feature_names()})\u001b[0m\u001b[0;34m\u001b[0m\u001b[0;34m\u001b[0m\u001b[0;34m\u001b[0m\u001b[0m\n\u001b[1;32m      3\u001b[0m \u001b[0;31m# las_vegas_coefs.set_index('words', inplace=True)\u001b[0m\u001b[0;34m\u001b[0m\u001b[0;34m\u001b[0m\u001b[0;34m\u001b[0m\u001b[0m\n\u001b[1;32m      4\u001b[0m \u001b[0;31m# las_vegas_coefs= las_vegas_coefs.sort_values(by='score', ascending=False)\u001b[0m\u001b[0;34m\u001b[0m\u001b[0;34m\u001b[0m\u001b[0;34m\u001b[0m\u001b[0m\n",
            "\u001b[0;32m<ipython-input-30-97e5a886392c>\u001b[0m in \u001b[0;36mplot_coefficients\u001b[0;34m(classifier, feature_names, top_features)\u001b[0m\n\u001b[1;32m      8\u001b[0m  \u001b[0mplt\u001b[0m\u001b[0;34m.\u001b[0m\u001b[0mfigure\u001b[0m\u001b[0;34m(\u001b[0m\u001b[0mfigsize\u001b[0m\u001b[0;34m=\u001b[0m\u001b[0;34m(\u001b[0m\u001b[0;36m15\u001b[0m\u001b[0;34m,\u001b[0m \u001b[0;36m5\u001b[0m\u001b[0;34m)\u001b[0m\u001b[0;34m)\u001b[0m\u001b[0;34m\u001b[0m\u001b[0;34m\u001b[0m\u001b[0m\n\u001b[1;32m      9\u001b[0m  \u001b[0mcolors\u001b[0m \u001b[0;34m=\u001b[0m \u001b[0;34m[\u001b[0m\u001b[0;34m'orange'\u001b[0m \u001b[0;32mif\u001b[0m \u001b[0mc\u001b[0m \u001b[0;34m<\u001b[0m \u001b[0;36m0\u001b[0m \u001b[0;32melse\u001b[0m \u001b[0;34m'green'\u001b[0m \u001b[0;32mfor\u001b[0m \u001b[0mc\u001b[0m \u001b[0;32min\u001b[0m \u001b[0mcoef\u001b[0m\u001b[0;34m[\u001b[0m\u001b[0mtop_coefficients\u001b[0m\u001b[0;34m]\u001b[0m\u001b[0;34m]\u001b[0m\u001b[0;34m\u001b[0m\u001b[0;34m\u001b[0m\u001b[0m\n\u001b[0;32m---> 10\u001b[0;31m  \u001b[0mplt\u001b[0m\u001b[0;34m.\u001b[0m\u001b[0mbar\u001b[0m\u001b[0;34m(\u001b[0m\u001b[0mnp\u001b[0m\u001b[0;34m.\u001b[0m\u001b[0marange\u001b[0m\u001b[0;34m(\u001b[0m\u001b[0;36m2\u001b[0m \u001b[0;34m*\u001b[0m \u001b[0mtop_features\u001b[0m\u001b[0;34m)\u001b[0m\u001b[0;34m,\u001b[0m \u001b[0mcoef\u001b[0m\u001b[0;34m[\u001b[0m\u001b[0mtop_coefficients\u001b[0m\u001b[0;34m]\u001b[0m\u001b[0;34m,\u001b[0m \u001b[0mcolor\u001b[0m\u001b[0;34m=\u001b[0m\u001b[0mcolors\u001b[0m\u001b[0;34m)\u001b[0m\u001b[0;34m\u001b[0m\u001b[0;34m\u001b[0m\u001b[0m\n\u001b[0m\u001b[1;32m     11\u001b[0m  \u001b[0mfeature_names\u001b[0m \u001b[0;34m=\u001b[0m \u001b[0mnp\u001b[0m\u001b[0;34m.\u001b[0m\u001b[0marray\u001b[0m\u001b[0;34m(\u001b[0m\u001b[0mfeature_names\u001b[0m\u001b[0;34m)\u001b[0m\u001b[0;34m\u001b[0m\u001b[0;34m\u001b[0m\u001b[0m\n\u001b[1;32m     12\u001b[0m  \u001b[0mplt\u001b[0m\u001b[0;34m.\u001b[0m\u001b[0mxticks\u001b[0m\u001b[0;34m(\u001b[0m\u001b[0mnp\u001b[0m\u001b[0;34m.\u001b[0m\u001b[0marange\u001b[0m\u001b[0;34m(\u001b[0m\u001b[0;36m1\u001b[0m\u001b[0;34m,\u001b[0m \u001b[0;36m1\u001b[0m \u001b[0;34m+\u001b[0m \u001b[0;36m2\u001b[0m \u001b[0;34m*\u001b[0m \u001b[0mtop_features\u001b[0m\u001b[0;34m)\u001b[0m\u001b[0;34m,\u001b[0m \u001b[0mfeature_names\u001b[0m\u001b[0;34m[\u001b[0m\u001b[0mtop_coefficients\u001b[0m\u001b[0;34m]\u001b[0m\u001b[0;34m,\u001b[0m \u001b[0mrotation\u001b[0m\u001b[0;34m=\u001b[0m\u001b[0;36m60\u001b[0m\u001b[0;34m,\u001b[0m \u001b[0mha\u001b[0m\u001b[0;34m=\u001b[0m\u001b[0;34m'right'\u001b[0m\u001b[0;34m)\u001b[0m\u001b[0;34m\u001b[0m\u001b[0;34m\u001b[0m\u001b[0m\n",
            "\u001b[0;32m/usr/local/lib/python3.6/dist-packages/matplotlib/pyplot.py\u001b[0m in \u001b[0;36mbar\u001b[0;34m(x, height, width, bottom, align, data, **kwargs)\u001b[0m\n\u001b[1;32m   2439\u001b[0m     return gca().bar(\n\u001b[1;32m   2440\u001b[0m         \u001b[0mx\u001b[0m\u001b[0;34m,\u001b[0m \u001b[0mheight\u001b[0m\u001b[0;34m,\u001b[0m \u001b[0mwidth\u001b[0m\u001b[0;34m=\u001b[0m\u001b[0mwidth\u001b[0m\u001b[0;34m,\u001b[0m \u001b[0mbottom\u001b[0m\u001b[0;34m=\u001b[0m\u001b[0mbottom\u001b[0m\u001b[0;34m,\u001b[0m \u001b[0malign\u001b[0m\u001b[0;34m=\u001b[0m\u001b[0malign\u001b[0m\u001b[0;34m,\u001b[0m\u001b[0;34m\u001b[0m\u001b[0;34m\u001b[0m\u001b[0m\n\u001b[0;32m-> 2441\u001b[0;31m         **({\"data\": data} if data is not None else {}), **kwargs)\n\u001b[0m\u001b[1;32m   2442\u001b[0m \u001b[0;34m\u001b[0m\u001b[0m\n\u001b[1;32m   2443\u001b[0m \u001b[0;34m\u001b[0m\u001b[0m\n",
            "\u001b[0;32m/usr/local/lib/python3.6/dist-packages/matplotlib/__init__.py\u001b[0m in \u001b[0;36minner\u001b[0;34m(ax, data, *args, **kwargs)\u001b[0m\n\u001b[1;32m   1597\u001b[0m     \u001b[0;32mdef\u001b[0m \u001b[0minner\u001b[0m\u001b[0;34m(\u001b[0m\u001b[0max\u001b[0m\u001b[0;34m,\u001b[0m \u001b[0;34m*\u001b[0m\u001b[0margs\u001b[0m\u001b[0;34m,\u001b[0m \u001b[0mdata\u001b[0m\u001b[0;34m=\u001b[0m\u001b[0;32mNone\u001b[0m\u001b[0;34m,\u001b[0m \u001b[0;34m**\u001b[0m\u001b[0mkwargs\u001b[0m\u001b[0;34m)\u001b[0m\u001b[0;34m:\u001b[0m\u001b[0;34m\u001b[0m\u001b[0;34m\u001b[0m\u001b[0m\n\u001b[1;32m   1598\u001b[0m         \u001b[0;32mif\u001b[0m \u001b[0mdata\u001b[0m \u001b[0;32mis\u001b[0m \u001b[0;32mNone\u001b[0m\u001b[0;34m:\u001b[0m\u001b[0;34m\u001b[0m\u001b[0;34m\u001b[0m\u001b[0m\n\u001b[0;32m-> 1599\u001b[0;31m             \u001b[0;32mreturn\u001b[0m \u001b[0mfunc\u001b[0m\u001b[0;34m(\u001b[0m\u001b[0max\u001b[0m\u001b[0;34m,\u001b[0m \u001b[0;34m*\u001b[0m\u001b[0mmap\u001b[0m\u001b[0;34m(\u001b[0m\u001b[0msanitize_sequence\u001b[0m\u001b[0;34m,\u001b[0m \u001b[0margs\u001b[0m\u001b[0;34m)\u001b[0m\u001b[0;34m,\u001b[0m \u001b[0;34m**\u001b[0m\u001b[0mkwargs\u001b[0m\u001b[0;34m)\u001b[0m\u001b[0;34m\u001b[0m\u001b[0;34m\u001b[0m\u001b[0m\n\u001b[0m\u001b[1;32m   1600\u001b[0m \u001b[0;34m\u001b[0m\u001b[0m\n\u001b[1;32m   1601\u001b[0m         \u001b[0mbound\u001b[0m \u001b[0;34m=\u001b[0m \u001b[0mnew_sig\u001b[0m\u001b[0;34m.\u001b[0m\u001b[0mbind\u001b[0m\u001b[0;34m(\u001b[0m\u001b[0max\u001b[0m\u001b[0;34m,\u001b[0m \u001b[0;34m*\u001b[0m\u001b[0margs\u001b[0m\u001b[0;34m,\u001b[0m \u001b[0;34m**\u001b[0m\u001b[0mkwargs\u001b[0m\u001b[0;34m)\u001b[0m\u001b[0;34m\u001b[0m\u001b[0;34m\u001b[0m\u001b[0m\n",
            "\u001b[0;32m/usr/local/lib/python3.6/dist-packages/matplotlib/axes/_axes.py\u001b[0m in \u001b[0;36mbar\u001b[0;34m(self, x, height, width, bottom, align, **kwargs)\u001b[0m\n\u001b[1;32m   2372\u001b[0m         x, height, width, y, linewidth = np.broadcast_arrays(\n\u001b[1;32m   2373\u001b[0m             \u001b[0;31m# Make args iterable too.\u001b[0m\u001b[0;34m\u001b[0m\u001b[0;34m\u001b[0m\u001b[0;34m\u001b[0m\u001b[0m\n\u001b[0;32m-> 2374\u001b[0;31m             np.atleast_1d(x), height, width, y, linewidth)\n\u001b[0m\u001b[1;32m   2375\u001b[0m \u001b[0;34m\u001b[0m\u001b[0m\n\u001b[1;32m   2376\u001b[0m         \u001b[0;31m# Now that units have been converted, set the tick locations.\u001b[0m\u001b[0;34m\u001b[0m\u001b[0;34m\u001b[0m\u001b[0;34m\u001b[0m\u001b[0m\n",
            "\u001b[0;32m<__array_function__ internals>\u001b[0m in \u001b[0;36mbroadcast_arrays\u001b[0;34m(*args, **kwargs)\u001b[0m\n",
            "\u001b[0;32m/usr/local/lib/python3.6/dist-packages/numpy/lib/stride_tricks.py\u001b[0m in \u001b[0;36mbroadcast_arrays\u001b[0;34m(*args, **kwargs)\u001b[0m\n\u001b[1;32m    262\u001b[0m     \u001b[0margs\u001b[0m \u001b[0;34m=\u001b[0m \u001b[0;34m[\u001b[0m\u001b[0mnp\u001b[0m\u001b[0;34m.\u001b[0m\u001b[0marray\u001b[0m\u001b[0;34m(\u001b[0m\u001b[0m_m\u001b[0m\u001b[0;34m,\u001b[0m \u001b[0mcopy\u001b[0m\u001b[0;34m=\u001b[0m\u001b[0;32mFalse\u001b[0m\u001b[0;34m,\u001b[0m \u001b[0msubok\u001b[0m\u001b[0;34m=\u001b[0m\u001b[0msubok\u001b[0m\u001b[0;34m)\u001b[0m \u001b[0;32mfor\u001b[0m \u001b[0m_m\u001b[0m \u001b[0;32min\u001b[0m \u001b[0margs\u001b[0m\u001b[0;34m]\u001b[0m\u001b[0;34m\u001b[0m\u001b[0;34m\u001b[0m\u001b[0m\n\u001b[1;32m    263\u001b[0m \u001b[0;34m\u001b[0m\u001b[0m\n\u001b[0;32m--> 264\u001b[0;31m     \u001b[0mshape\u001b[0m \u001b[0;34m=\u001b[0m \u001b[0m_broadcast_shape\u001b[0m\u001b[0;34m(\u001b[0m\u001b[0;34m*\u001b[0m\u001b[0margs\u001b[0m\u001b[0;34m)\u001b[0m\u001b[0;34m\u001b[0m\u001b[0;34m\u001b[0m\u001b[0m\n\u001b[0m\u001b[1;32m    265\u001b[0m \u001b[0;34m\u001b[0m\u001b[0m\n\u001b[1;32m    266\u001b[0m     \u001b[0;32mif\u001b[0m \u001b[0mall\u001b[0m\u001b[0;34m(\u001b[0m\u001b[0marray\u001b[0m\u001b[0;34m.\u001b[0m\u001b[0mshape\u001b[0m \u001b[0;34m==\u001b[0m \u001b[0mshape\u001b[0m \u001b[0;32mfor\u001b[0m \u001b[0marray\u001b[0m \u001b[0;32min\u001b[0m \u001b[0margs\u001b[0m\u001b[0;34m)\u001b[0m\u001b[0;34m:\u001b[0m\u001b[0;34m\u001b[0m\u001b[0;34m\u001b[0m\u001b[0m\n",
            "\u001b[0;32m/usr/local/lib/python3.6/dist-packages/numpy/lib/stride_tricks.py\u001b[0m in \u001b[0;36m_broadcast_shape\u001b[0;34m(*args)\u001b[0m\n\u001b[1;32m    189\u001b[0m     \u001b[0;31m# use the old-iterator because np.nditer does not handle size 0 arrays\u001b[0m\u001b[0;34m\u001b[0m\u001b[0;34m\u001b[0m\u001b[0;34m\u001b[0m\u001b[0m\n\u001b[1;32m    190\u001b[0m     \u001b[0;31m# consistently\u001b[0m\u001b[0;34m\u001b[0m\u001b[0;34m\u001b[0m\u001b[0;34m\u001b[0m\u001b[0m\n\u001b[0;32m--> 191\u001b[0;31m     \u001b[0mb\u001b[0m \u001b[0;34m=\u001b[0m \u001b[0mnp\u001b[0m\u001b[0;34m.\u001b[0m\u001b[0mbroadcast\u001b[0m\u001b[0;34m(\u001b[0m\u001b[0;34m*\u001b[0m\u001b[0margs\u001b[0m\u001b[0;34m[\u001b[0m\u001b[0;34m:\u001b[0m\u001b[0;36m32\u001b[0m\u001b[0;34m]\u001b[0m\u001b[0;34m)\u001b[0m\u001b[0;34m\u001b[0m\u001b[0;34m\u001b[0m\u001b[0m\n\u001b[0m\u001b[1;32m    192\u001b[0m     \u001b[0;31m# unfortunately, it cannot handle 32 or more arguments directly\u001b[0m\u001b[0;34m\u001b[0m\u001b[0;34m\u001b[0m\u001b[0;34m\u001b[0m\u001b[0m\n\u001b[1;32m    193\u001b[0m     \u001b[0;32mfor\u001b[0m \u001b[0mpos\u001b[0m \u001b[0;32min\u001b[0m \u001b[0mrange\u001b[0m\u001b[0;34m(\u001b[0m\u001b[0;36m32\u001b[0m\u001b[0;34m,\u001b[0m \u001b[0mlen\u001b[0m\u001b[0;34m(\u001b[0m\u001b[0margs\u001b[0m\u001b[0;34m)\u001b[0m\u001b[0;34m,\u001b[0m \u001b[0;36m31\u001b[0m\u001b[0;34m)\u001b[0m\u001b[0;34m:\u001b[0m\u001b[0;34m\u001b[0m\u001b[0;34m\u001b[0m\u001b[0m\n",
            "\u001b[0;31mValueError\u001b[0m: shape mismatch: objects cannot be broadcast to a single shape"
          ]
        },
        {
          "output_type": "display_data",
          "data": {
            "image/png": "[encoded data removed]",
            "text/plain": [
              "<Figure size 1080x360 with 1 Axes>"
            ]
          },
          "metadata": {
            "tags": []
          }
        }
      ]
    },
    {
      "cell_type": "code",
      "metadata": {
        "id": "kIpYi7LYd83P",
        "colab_type": "code",
        "colab": {}
      },
      "source": [
        ""
      ],
      "execution_count": 0,
      "outputs": []
    },
    {
      "cell_type": "code",
      "metadata": {
        "id": "6buc_rHld86L",
        "colab_type": "code",
        "colab": {}
      },
      "source": [
        "import matplotlib.pyplot as plt\n",
        "fig, ax = plt.subplots(figsize=(8,6))\n",
        "for c, x in dict_accuracy_pca.items(): \n",
        "    avg_score = {k:np.mean(np.array(v)) for k,v in dict_accuracy_pca.items()}\n",
        "    list = sorted(avg_score.items())\n",
        "    x_plot, y_plot = zip(*list)\n",
        "    ax.plot(x_plot, y_plot, color='orange',marker='d',markersize=10)\n",
        "\n",
        "ax.set_ylabel('Accuracy',fontsize=10)\n",
        "ax.legend(['Accuracy'],loc='upper right',fontsize=15)\n",
        "ax.set_xlabel('Component- values',fontsize=10)\n",
        "plt.title(\"Accuracy vs Component- values with PCA\")\n",
        "ax.set_xscale('log')\n",
        "plt.show()"
      ],
      "execution_count": 0,
      "outputs": []
    },
    {
      "cell_type": "code",
      "metadata": {
        "id": "LpipZ5T8Mhme",
        "colab_type": "code",
        "colab": {}
      },
      "source": [
        ""
      ],
      "execution_count": 0,
      "outputs": []
    }
  ]
}