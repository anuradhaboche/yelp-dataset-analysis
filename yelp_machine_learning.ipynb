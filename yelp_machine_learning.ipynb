{
  "nbformat": 4,
  "nbformat_minor": 0,
  "metadata": {
    "colab": {
      "name": "yelp-machine-learning.ipynb",
      "provenance": [],
      "collapsed_sections": [],
      "machine_shape": "hm"
    },
    "kernelspec": {
      "name": "python3",
      "display_name": "Python 3"
    }
  },
  "cells": [
    {
      "cell_type": "code",
      "metadata": {
        "id": "E-t0JckzeDdr",
        "colab_type": "code",
        "colab": {}
      },
      "source": [
        "import pandas as pd\n",
        "import numpy as np\n",
        "import re\n",
        "import time\n",
        "import warnings\n",
        "from sklearn.feature_extraction.text import TfidfVectorizer, CountVectorizer\n",
        "from sklearn.svm import LinearSVC\n",
        "from sklearn.model_selection import cross_val_score\n",
        "from sklearn import metrics\n",
        "from sklearn.decomposition import TruncatedSVD\n",
        "from sklearn.model_selection import cross_val_score\n",
        "from sklearn.model_selection import train_test_split\n",
        "from sklearn.preprocessing import StandardScaler\n",
        "from sklearn.model_selection import cross_val_score\n",
        "from sklearn import metrics\n",
        "from sklearn.linear_model import LogisticRegression\n",
        "import matplotlib.pyplot as plt\n",
        "warnings.filterwarnings(action = 'ignore') \n"
      ],
      "execution_count": 0,
      "outputs": []
    },
    {
      "cell_type": "markdown",
      "metadata": {
        "id": "AEzDGBgouesJ",
        "colab_type": "text"
      },
      "source": [
        "**Data Load**"
      ]
    },
    {
      "cell_type": "code",
      "metadata": {
        "id": "OQkfCtffdzFs",
        "colab_type": "code",
        "outputId": "aec56d2d-87a5-413d-892a-c89be1a0bd01",
        "colab": {
          "base_uri": "https://localhost:8080/",
          "height": 651
        }
      },
      "source": [
        "las_vegas_data= pd.read_pickle('/content/drive/My Drive/las_vegas_data_tokenized_final.pkl')\n",
        "las_vegas_data.head()"
      ],
      "execution_count": 0,
      "outputs": [
        {
          "output_type": "execute_result",
          "data": {
            "text/html": [
              "<div>\n",
              "<style scoped>\n",
              "    .dataframe tbody tr th:only-of-type {\n",
              "        vertical-align: middle;\n",
              "    }\n",
              "\n",
              "    .dataframe tbody tr th {\n",
              "        vertical-align: top;\n",
              "    }\n",
              "\n",
              "    .dataframe thead th {\n",
              "        text-align: right;\n",
              "    }\n",
              "</style>\n",
              "<table border=\"1\" class=\"dataframe\">\n",
              "  <thead>\n",
              "    <tr style=\"text-align: right;\">\n",
              "      <th></th>\n",
              "      <th>business_id</th>\n",
              "      <th>review_id</th>\n",
              "      <th>stars</th>\n",
              "      <th>latitude</th>\n",
              "      <th>longitude</th>\n",
              "      <th>text</th>\n",
              "      <th>postal_code</th>\n",
              "      <th>category</th>\n",
              "      <th>tokenized_text</th>\n",
              "      <th>token_tagged</th>\n",
              "      <th>imp_tags</th>\n",
              "      <th>label</th>\n",
              "      <th>polarity</th>\n",
              "    </tr>\n",
              "  </thead>\n",
              "  <tbody>\n",
              "    <tr>\n",
              "      <th>0</th>\n",
              "      <td>tstimHoMcYbkSC4eBA1wEg</td>\n",
              "      <td>iWFBGYotfzwiLsOka0e1Rw</td>\n",
              "      <td>4.5</td>\n",
              "      <td>36.195615</td>\n",
              "      <td>-115.040529</td>\n",
              "      <td>we found out about this gem from the mans cowo...</td>\n",
              "      <td>89156</td>\n",
              "      <td>Mexican</td>\n",
              "      <td>[found, gem, man, coworker, used, live, apt, c...</td>\n",
              "      <td>[(found, VBN), (gem, NN), (man, NN), (coworker...</td>\n",
              "      <td>[found, gem, man, coworker, used, live, apt, c...</td>\n",
              "      <td>positive</td>\n",
              "      <td>0.238242</td>\n",
              "    </tr>\n",
              "    <tr>\n",
              "      <th>1</th>\n",
              "      <td>tstimHoMcYbkSC4eBA1wEg</td>\n",
              "      <td>QhiVo4F8MFSoz1T7YggcXA</td>\n",
              "      <td>4.5</td>\n",
              "      <td>36.195615</td>\n",
              "      <td>-115.040529</td>\n",
              "      <td>the chips are a fried corn tortilla which were...</td>\n",
              "      <td>89156</td>\n",
              "      <td>Mexican</td>\n",
              "      <td>[chip, fried, corn, tortilla, surprisingly, am...</td>\n",
              "      <td>[(chip, NN), (fried, VBD), (corn, NN), (tortil...</td>\n",
              "      <td>[chip, fried, corn, tortilla, surprisingly, am...</td>\n",
              "      <td>positive</td>\n",
              "      <td>0.342857</td>\n",
              "    </tr>\n",
              "    <tr>\n",
              "      <th>3</th>\n",
              "      <td>tstimHoMcYbkSC4eBA1wEg</td>\n",
              "      <td>lJfGtkCc4in6Xcq-_Wtfwg</td>\n",
              "      <td>4.5</td>\n",
              "      <td>36.195615</td>\n",
              "      <td>-115.040529</td>\n",
              "      <td>ive ordered caldo de rez from here twice and b...</td>\n",
              "      <td>89156</td>\n",
              "      <td>Mexican</td>\n",
              "      <td>[ive, ordered, caldo, de, rez, twice, time, fo...</td>\n",
              "      <td>[(ive, JJ), (ordered, VBD), (caldo, NN), (de, ...</td>\n",
              "      <td>[ive, ordered, caldo, twice, time, food, sooo,...</td>\n",
              "      <td>positive</td>\n",
              "      <td>0.109524</td>\n",
              "    </tr>\n",
              "    <tr>\n",
              "      <th>4</th>\n",
              "      <td>tstimHoMcYbkSC4eBA1wEg</td>\n",
              "      <td>BKoH9aG1ZjUjy2brzkxzJw</td>\n",
              "      <td>4.5</td>\n",
              "      <td>36.195615</td>\n",
              "      <td>-115.040529</td>\n",
              "      <td>my boyfriend doesnt like mexican food yet he l...</td>\n",
              "      <td>89156</td>\n",
              "      <td>Mexican</td>\n",
              "      <td>[boyfriend, doesnt, like, mexican, food, yet, ...</td>\n",
              "      <td>[(boyfriend, VB), (doesnt, NN), (like, IN), (m...</td>\n",
              "      <td>[boyfriend, doesnt, mexican, food, yet, loved,...</td>\n",
              "      <td>positive</td>\n",
              "      <td>0.245631</td>\n",
              "    </tr>\n",
              "    <tr>\n",
              "      <th>6</th>\n",
              "      <td>tstimHoMcYbkSC4eBA1wEg</td>\n",
              "      <td>MM8yy3uGKCuAEqASCqQazQ</td>\n",
              "      <td>4.5</td>\n",
              "      <td>36.195615</td>\n",
              "      <td>-115.040529</td>\n",
              "      <td>the food was good everything was well priced  ...</td>\n",
              "      <td>89156</td>\n",
              "      <td>Mexican</td>\n",
              "      <td>[food, good, everything, well, priced, ordered...</td>\n",
              "      <td>[(food, NN), (good, JJ), (everything, NN), (we...</td>\n",
              "      <td>[food, good, everything, well, priced, ordered...</td>\n",
              "      <td>positive</td>\n",
              "      <td>0.293492</td>\n",
              "    </tr>\n",
              "  </tbody>\n",
              "</table>\n",
              "</div>"
            ],
            "text/plain": [
              "              business_id               review_id  ...     label  polarity\n",
              "0  tstimHoMcYbkSC4eBA1wEg  iWFBGYotfzwiLsOka0e1Rw  ...  positive  0.238242\n",
              "1  tstimHoMcYbkSC4eBA1wEg  QhiVo4F8MFSoz1T7YggcXA  ...  positive  0.342857\n",
              "3  tstimHoMcYbkSC4eBA1wEg  lJfGtkCc4in6Xcq-_Wtfwg  ...  positive  0.109524\n",
              "4  tstimHoMcYbkSC4eBA1wEg  BKoH9aG1ZjUjy2brzkxzJw  ...  positive  0.245631\n",
              "6  tstimHoMcYbkSC4eBA1wEg  MM8yy3uGKCuAEqASCqQazQ  ...  positive  0.293492\n",
              "\n",
              "[5 rows x 13 columns]"
            ]
          },
          "metadata": {
            "tags": []
          },
          "execution_count": 4
        }
      ]
    },
    {
      "cell_type": "code",
      "metadata": {
        "id": "Kqwsc6I_-EEB",
        "colab_type": "code",
        "colab": {}
      },
      "source": [
        ""
      ],
      "execution_count": 0,
      "outputs": []
    },
    {
      "cell_type": "markdown",
      "metadata": {
        "id": "k89eBQs3ukDT",
        "colab_type": "text"
      },
      "source": [
        "**Text Vectorization**"
      ]
    },
    {
      "cell_type": "code",
      "metadata": {
        "id": "RtsKIDn9d3jP",
        "colab_type": "code",
        "outputId": "2b103ba4-70d4-453f-c2f0-8a20f88478a1",
        "colab": {
          "base_uri": "https://localhost:8080/",
          "height": 54
        }
      },
      "source": [
        "start= time.time()\n",
        "vector = TfidfVectorizer(tokenizer=lambda doc: doc, lowercase=False, max_features=50000)\n",
        "vectorizer= vector.fit_transform(las_vegas_data['imp_tags'])\n",
        "print(\"Time to load data: {} seconds\".format(time.time() - start))\n",
        "# vectorizer.vocabulary_\n",
        "# len(vectorizer.vocabulary_)\n",
        "# vector.get_feature_names()"
      ],
      "execution_count": 0,
      "outputs": [
        {
          "output_type": "stream",
          "text": [
            "Time to load data: 20.205360889434814 seconds\n"
          ],
          "name": "stdout"
        }
      ]
    },
    {
      "cell_type": "code",
      "metadata": {
        "id": "GDebzfaBv7nh",
        "colab_type": "code",
        "colab": {}
      },
      "source": [
        "vector.get_feature_names()"
      ],
      "execution_count": 0,
      "outputs": []
    },
    {
      "cell_type": "code",
      "metadata": {
        "id": "psb9ux3FuclI",
        "colab_type": "code",
        "colab": {}
      },
      "source": [
        "{k: v for k, v in sorted(vector.vocabulary_.items(), key=lambda item: item[1], reverse=True)}"
      ],
      "execution_count": 0,
      "outputs": []
    },
    {
      "cell_type": "markdown",
      "metadata": {
        "id": "3APh93YcupUQ",
        "colab_type": "text"
      },
      "source": [
        "**Linear SVM**"
      ]
    },
    {
      "cell_type": "code",
      "metadata": {
        "id": "RvmbukSXd6O1",
        "colab_type": "code",
        "outputId": "a0d2f093-099e-4a13-e481-ebdb20becfb4",
        "colab": {
          "base_uri": "https://localhost:8080/",
          "height": 451
        }
      },
      "source": [
        "\n",
        "scores= pd.DataFrame()\n",
        "\n",
        "C=[0.001,0.01,0.1,1,10,100]\n",
        "# C=[1]\n",
        "X=vectorizer\n",
        "y=las_vegas_data['label']\n",
        "dict_accuracy = {}\n",
        "# dict_roc ={}\n",
        "\n",
        "start= time.time()\n",
        "for c in C:\n",
        "  dict_accuracy[c] = []\n",
        "  print('Started for C=',c)\n",
        "  svm = LinearSVC(dual=False, max_iter=10000, C=c).fit(X, y)\n",
        "  print('Finished Modeling for C=',c)\n",
        "  acc_scores = cross_val_score(svm, X, y, cv=5, scoring='accuracy') \n",
        "  dict_accuracy[c].append(acc_scores)\n",
        "  print('Stored c and scores for C=',c)\n",
        "  print('Finished for C=', c)\n",
        "\n",
        "print(\"Time to load data: {} seconds\".format(time.time() - start))"
      ],
      "execution_count": 0,
      "outputs": [
        {
          "output_type": "stream",
          "text": [
            "Started for C= 0.001\n",
            "Finished Modeling for C= 0.001\n",
            "Stored c and scores for C= 0.001\n",
            "Finished for C= 0.001\n",
            "Started for C= 0.01\n",
            "Finished Modeling for C= 0.01\n",
            "Stored c and scores for C= 0.01\n",
            "Finished for C= 0.01\n",
            "Started for C= 0.1\n",
            "Finished Modeling for C= 0.1\n",
            "Stored c and scores for C= 0.1\n",
            "Finished for C= 0.1\n",
            "Started for C= 1\n",
            "Finished Modeling for C= 1\n",
            "Stored c and scores for C= 1\n",
            "Finished for C= 1\n",
            "Started for C= 10\n",
            "Finished Modeling for C= 10\n",
            "Stored c and scores for C= 10\n",
            "Finished for C= 10\n",
            "Started for C= 100\n",
            "Finished Modeling for C= 100\n",
            "Stored c and scores for C= 100\n",
            "Finished for C= 100\n",
            "Time to load data: 813.328203201294 seconds\n"
          ],
          "name": "stdout"
        }
      ]
    },
    {
      "cell_type": "markdown",
      "metadata": {
        "id": "_RpDBxL6yAMT",
        "colab_type": "text"
      },
      "source": [
        "**SVM: Weigths and tokens**"
      ]
    },
    {
      "cell_type": "code",
      "metadata": {
        "id": "WTagBaLrd8zi",
        "colab_type": "code",
        "outputId": "652048b6-5ece-44e6-abb2-d5874873c347",
        "colab": {
          "base_uri": "https://localhost:8080/",
          "height": 710
        }
      },
      "source": [
        "\n",
        "las_vegas_coefs= pd.DataFrame({'score': svm.coef_[0], 'words': vector.get_feature_names()})\n",
        "las_vegas_coefs.set_index('words', inplace=True)\n",
        "las_vegas_coefs= las_vegas_coefs.sort_values(by='score', ascending=False)\n",
        "las_vegas_coefs.head(20)"
      ],
      "execution_count": 0,
      "outputs": [
        {
          "output_type": "execute_result",
          "data": {
            "text/html": [
              "<div>\n",
              "<style scoped>\n",
              "    .dataframe tbody tr th:only-of-type {\n",
              "        vertical-align: middle;\n",
              "    }\n",
              "\n",
              "    .dataframe tbody tr th {\n",
              "        vertical-align: top;\n",
              "    }\n",
              "\n",
              "    .dataframe thead th {\n",
              "        text-align: right;\n",
              "    }\n",
              "</style>\n",
              "<table border=\"1\" class=\"dataframe\">\n",
              "  <thead>\n",
              "    <tr style=\"text-align: right;\">\n",
              "      <th></th>\n",
              "      <th>score</th>\n",
              "    </tr>\n",
              "    <tr>\n",
              "      <th>words</th>\n",
              "      <th></th>\n",
              "    </tr>\n",
              "  </thead>\n",
              "  <tbody>\n",
              "    <tr>\n",
              "      <th>marilyns</th>\n",
              "      <td>17.748486</td>\n",
              "    </tr>\n",
              "    <tr>\n",
              "      <th>vamp</th>\n",
              "      <td>16.306364</td>\n",
              "    </tr>\n",
              "    <tr>\n",
              "      <th>milano</th>\n",
              "      <td>15.762637</td>\n",
              "    </tr>\n",
              "    <tr>\n",
              "      <th>napolitano</th>\n",
              "      <td>14.294298</td>\n",
              "    </tr>\n",
              "    <tr>\n",
              "      <th>rook</th>\n",
              "      <td>14.261838</td>\n",
              "    </tr>\n",
              "    <tr>\n",
              "      <th>cult</th>\n",
              "      <td>14.056376</td>\n",
              "    </tr>\n",
              "    <tr>\n",
              "      <th>bundt</th>\n",
              "      <td>13.720451</td>\n",
              "    </tr>\n",
              "    <tr>\n",
              "      <th>rosarito</th>\n",
              "      <td>13.713940</td>\n",
              "    </tr>\n",
              "    <tr>\n",
              "      <th>growler</th>\n",
              "      <td>13.638785</td>\n",
              "    </tr>\n",
              "    <tr>\n",
              "      <th>longish</th>\n",
              "      <td>13.370190</td>\n",
              "    </tr>\n",
              "    <tr>\n",
              "      <th>kitchenette</th>\n",
              "      <td>13.155448</td>\n",
              "    </tr>\n",
              "    <tr>\n",
              "      <th>mortadella</th>\n",
              "      <td>13.129188</td>\n",
              "    </tr>\n",
              "    <tr>\n",
              "      <th>hippo</th>\n",
              "      <td>13.061813</td>\n",
              "    </tr>\n",
              "    <tr>\n",
              "      <th>walkups</th>\n",
              "      <td>12.953282</td>\n",
              "    </tr>\n",
              "    <tr>\n",
              "      <th>leeway</th>\n",
              "      <td>12.753577</td>\n",
              "    </tr>\n",
              "    <tr>\n",
              "      <th>hedonistic</th>\n",
              "      <td>12.653032</td>\n",
              "    </tr>\n",
              "    <tr>\n",
              "      <th>onoff</th>\n",
              "      <td>12.425849</td>\n",
              "    </tr>\n",
              "    <tr>\n",
              "      <th>vampire</th>\n",
              "      <td>12.298334</td>\n",
              "    </tr>\n",
              "    <tr>\n",
              "      <th>pacer</th>\n",
              "      <td>12.160920</td>\n",
              "    </tr>\n",
              "    <tr>\n",
              "      <th>ushe</th>\n",
              "      <td>12.106144</td>\n",
              "    </tr>\n",
              "  </tbody>\n",
              "</table>\n",
              "</div>"
            ],
            "text/plain": [
              "                 score\n",
              "words                 \n",
              "marilyns     17.748486\n",
              "vamp         16.306364\n",
              "milano       15.762637\n",
              "napolitano   14.294298\n",
              "rook         14.261838\n",
              "cult         14.056376\n",
              "bundt        13.720451\n",
              "rosarito     13.713940\n",
              "growler      13.638785\n",
              "longish      13.370190\n",
              "kitchenette  13.155448\n",
              "mortadella   13.129188\n",
              "hippo        13.061813\n",
              "walkups      12.953282\n",
              "leeway       12.753577\n",
              "hedonistic   12.653032\n",
              "onoff        12.425849\n",
              "vampire      12.298334\n",
              "pacer        12.160920\n",
              "ushe         12.106144"
            ]
          },
          "metadata": {
            "tags": []
          },
          "execution_count": 42
        }
      ]
    },
    {
      "cell_type": "markdown",
      "metadata": {
        "id": "pKwEKAq7uvkM",
        "colab_type": "text"
      },
      "source": [
        "**Comparing SVM Accuracy with SVD**"
      ]
    },
    {
      "cell_type": "code",
      "metadata": {
        "id": "EL2MACyTutBy",
        "colab_type": "code",
        "outputId": "e5405675-2f54-4883-a0e9-96f84939339c",
        "colab": {
          "base_uri": "https://localhost:8080/",
          "height": 54
        }
      },
      "source": [
        "dict_accuracy_pca = {}\n",
        "X=vectorizer\n",
        "y=las_vegas_data['label']\n",
        "\n",
        "svd = TruncatedSVD(n_components=5, n_iter=7, random_state=42).fit(X)\n",
        "\n",
        "start= time.time()\n",
        "for components in range(1,7):\n",
        "  reducedX = svd.transform(X)\n",
        "  dict_accuracy_pca[components] =[]\n",
        "  svm_pca = LinearSVC(dual=False, max_iter=10000).fit(reducedX, y)\n",
        "  scores_pca = cross_val_score(svm_pca, reducedX, y,cv=5, scoring='accuracy')\n",
        "  dict_accuracy_pca[components].append(scores_pca)\n",
        "\n",
        "print(\"Time to load data: {} seconds\".format(time.time() - start))"
      ],
      "execution_count": 0,
      "outputs": [
        {
          "output_type": "stream",
          "text": [
            "Time to load data: 53.699111223220825 seconds\n"
          ],
          "name": "stdout"
        }
      ]
    },
    {
      "cell_type": "markdown",
      "metadata": {
        "id": "eyyatWdjvDqo",
        "colab_type": "text"
      },
      "source": [
        "**Plot SVM vs SVM + SVD**"
      ]
    },
    {
      "cell_type": "code",
      "metadata": {
        "id": "mj8jgNm6tY0I",
        "colab_type": "code",
        "outputId": "dabbc9ce-688c-4b76-ec01-ecf4cff5d5e6",
        "colab": {
          "base_uri": "https://localhost:8080/",
          "height": 306
        }
      },
      "source": [
        "import matplotlib.pyplot as plt\n",
        "fig, (ax1,ax2) = plt.subplots(2)\n",
        "for c, x in dict_accuracy.items(): \n",
        "    non_avg_score = {k:np.mean(np.array(v)) for k,v in dict_accuracy.items()}\n",
        "    avg_score = {k:np.mean(np.array(v)) for k,v in dict_accuracy_pca.items()}\n",
        "    acc_list = sorted(non_avg_score.items())\n",
        "    pca_list = sorted(avg_score.items())\n",
        "    x_plot, y_plot = zip(*acc_list)\n",
        "    x, y = zip(*pca_list)\n",
        "    ax1.plot(x_plot, y_plot, color='orange',marker='d',markersize=10)\n",
        "    ax2.plot(x, y, color='green',marker='d',markersize=10)\n",
        "\n",
        "# ax1.title('Accurracy with and without PCA', fontsize=12)    \n",
        "ax1.set_ylabel('Accuracy without PCA',fontsize=10)\n",
        "ax1.legend(['Accuracy'],loc='upper right',fontsize=10)\n",
        "ax1.set_xlabel('C- values',fontsize=10)\n",
        "ax1.set_xscale('log')\n",
        "\n",
        "ax2.set_ylabel('Accuracy with PCA',fontsize=10)\n",
        "ax2.legend(['Accuracy'],loc='bottom right',fontsize=10)\n",
        "ax2.set_xlabel('Component- values',fontsize=10)\n",
        "# ax2.set_xscale('log')\n",
        "plt.show()"
      ],
      "execution_count": 0,
      "outputs": [
        {
          "output_type": "display_data",
          "data": {
            "image/png": "[encoded data removed]",
            "text/plain": [
              "<Figure size 432x288 with 2 Axes>"
            ]
          },
          "metadata": {
            "tags": []
          }
        }
      ]
    },
    {
      "cell_type": "markdown",
      "metadata": {
        "id": "1JSwkepevWOn",
        "colab_type": "text"
      },
      "source": [
        "**Logistic Classifier**"
      ]
    },
    {
      "cell_type": "code",
      "metadata": {
        "id": "LpipZ5T8Mhme",
        "colab_type": "code",
        "outputId": "2b56dcd1-42e0-4063-b4e1-8ca1de4434e9",
        "colab": {
          "base_uri": "https://localhost:8080/",
          "height": 451
        }
      },
      "source": [
        "scores= pd.DataFrame()\n",
        "\n",
        "C=[0.001,0.01,0.1,1,10,100]\n",
        "X=vectorizer\n",
        "y=las_vegas_data['label']\n",
        "dict_accuracy_log = {}\n",
        "\n",
        "start= time.time()\n",
        "for c in C:\n",
        "  dict_accuracy_log[c] = []\n",
        "  print('Started for C=',c)\n",
        "  log = LogisticRegression(max_iter=10000, C=c).fit(X, y)\n",
        "  print('Finished Modeling for C=',c)\n",
        "  acc_scores_log = cross_val_score(log, X, y, cv=5, scoring='accuracy') \n",
        "  dict_accuracy_log[c].append(acc_scores_log)\n",
        "  print('Stored c and scores for C=',c)\n",
        "  print('Finished for C=', c)\n",
        "\n",
        "print(\"Time to load data: {} seconds\".format(time.time() - start))"
      ],
      "execution_count": 0,
      "outputs": [
        {
          "output_type": "stream",
          "text": [
            "Started for C= 0.001\n",
            "Finished Modeling for C= 0.001\n",
            "Stored c and scores for C= 0.001\n",
            "Finished for C= 0.001\n",
            "Started for C= 0.01\n",
            "Finished Modeling for C= 0.01\n",
            "Stored c and scores for C= 0.01\n",
            "Finished for C= 0.01\n",
            "Started for C= 0.1\n",
            "Finished Modeling for C= 0.1\n",
            "Stored c and scores for C= 0.1\n",
            "Finished for C= 0.1\n",
            "Started for C= 1\n",
            "Finished Modeling for C= 1\n",
            "Stored c and scores for C= 1\n",
            "Finished for C= 1\n",
            "Started for C= 10\n",
            "Finished Modeling for C= 10\n",
            "Stored c and scores for C= 10\n",
            "Finished for C= 10\n",
            "Started for C= 100\n",
            "Finished Modeling for C= 100\n",
            "Stored c and scores for C= 100\n",
            "Finished for C= 100\n",
            "Time to load data: 2372.22269654274 seconds\n"
          ],
          "name": "stdout"
        }
      ]
    },
    {
      "cell_type": "markdown",
      "metadata": {
        "id": "U5kzJo5XvlTj",
        "colab_type": "text"
      },
      "source": [
        "**Plot Accuracy SVM and Logistic**"
      ]
    },
    {
      "cell_type": "code",
      "metadata": {
        "id": "ERLFO1r4XdHs",
        "colab_type": "code",
        "outputId": "493a1ebd-089e-400e-ef88-5edff110c462",
        "colab": {
          "base_uri": "https://localhost:8080/",
          "height": 413
        }
      },
      "source": [
        "\n",
        "fig, ax1 = plt.subplots(figsize=(8,6))\n",
        "ax2=ax1.twinx()\n",
        "for c, x in dict_accuracy.items(): \n",
        "    svm_score = {k:np.mean(np.array(v)) for k,v in dict_accuracy.items()}\n",
        "    log_score = {k:np.mean(np.array(v)) for k,v in dict_accuracy_log.items()}\n",
        "    acc_list = sorted(svm_score.items())\n",
        "    log_list = sorted(log_score.items())\n",
        "    x_plot, y_plot = zip(*acc_list)\n",
        "    x, y = zip(*log_list)\n",
        "    ax1.plot(x_plot, y_plot, color='orange',marker='d',markersize=10)\n",
        "    ax2.plot(x, y, color='green',marker='d',markersize=10)\n",
        "\n",
        "ax1.set_ylabel('Accuracy with SVM',fontsize=12)\n",
        "ax1.legend(['SVM Accuracy'],loc=2,fontsize=10)\n",
        "ax1.set_xlabel('C- values',fontsize=10)\n",
        "ax1.set_xscale('log')\n",
        "\n",
        "ax2.set_ylabel('Accuracy with Logistic Regression',fontsize=12)\n",
        "ax2.legend(['Log Accuracy'],loc=1,fontsize=10)\n",
        "# ax2.set_xscale('log')\n",
        "plt.show()"
      ],
      "execution_count": 0,
      "outputs": [
        {
          "output_type": "display_data",
          "data": {
            "image/png": "[encoded data removed]",
            "text/plain": [
              "<Figure size 576x432 with 2 Axes>"
            ]
          },
          "metadata": {
            "tags": []
          }
        }
      ]
    },
    {
      "cell_type": "code",
      "metadata": {
        "id": "6buc_rHld86L",
        "colab_type": "code",
        "outputId": "24b4b4fa-2dc0-4243-dbce-7537bfad8bef",
        "colab": {
          "base_uri": "https://localhost:8080/",
          "height": 54
        }
      },
      "source": [
        ""
      ],
      "execution_count": 0,
      "outputs": [
        {
          "output_type": "stream",
          "text": [
            "24.034786462783813\n"
          ],
          "name": "stdout"
        }
      ]
    },
    {
      "cell_type": "markdown",
      "metadata": {
        "id": "wkTA8U6_vL9c",
        "colab_type": "text"
      },
      "source": [
        "**Positive vs Negative words analysis**"
      ]
    },
    {
      "cell_type": "code",
      "metadata": {
        "id": "SGLiyJAgd8u8",
        "colab_type": "code",
        "colab": {}
      },
      "source": [
        "def plot_coefficients(classifier, feature_names, top_features=20):\n",
        " coef = classifier.coef_.ravel()\n",
        " top_positive_coefficients = np.argsort(coef)[-top_features:]\n",
        " top_negative_coefficients = np.argsort(coef)[:top_features]\n",
        " top_coefficients = np.hstack([top_negative_coefficients, top_positive_coefficients])\n",
        " plt.figure(figsize=(13, 5))\n",
        " colors = ['orange' if c < 0 else 'green' for c in coef[top_coefficients]]\n",
        " plt.bar(np.arange(2 * top_features), coef[top_coefficients], color=colors)\n",
        " feature_names = np.array(feature_names)\n",
        " plt.xticks(np.arange(1, 1 + 2 * top_features), feature_names[top_coefficients], rotation=60, ha='right')\n",
        " plt.show()\n",
        " "
      ],
      "execution_count": 0,
      "outputs": []
    },
    {
      "cell_type": "code",
      "metadata": {
        "id": "vlL8xXtXDOPw",
        "colab_type": "code",
        "outputId": "75683869-1cb7-4d0f-831e-f94fddc2d671",
        "colab": {
          "base_uri": "https://localhost:8080/",
          "height": 385
        }
      },
      "source": [
        "plot_coefficients(svm, vector.get_feature_names())"
      ],
      "execution_count": 0,
      "outputs": [
        {
          "output_type": "display_data",
          "data": {
            "image/png": "[encoded data removed]",
            "text/plain": [
              "<Figure size 936x360 with 1 Axes>"
            ]
          },
          "metadata": {
            "tags": []
          }
        }
      ]
    },
    {
      "cell_type": "code",
      "metadata": {
        "id": "E6fXDmjr_huD",
        "colab_type": "code",
        "colab": {}
      },
      "source": [
        ""
      ],
      "execution_count": 0,
      "outputs": []
    }
  ]
}