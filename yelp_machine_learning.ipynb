{
  "nbformat": 4,
  "nbformat_minor": 0,
  "metadata": {
    "colab": {
      "name": "yelp-machine-learning.ipynb",
      "provenance": [],
      "collapsed_sections": [],
      "machine_shape": "hm"
    },
    "kernelspec": {
      "name": "python3",
      "display_name": "Python 3"
    }
  },
  "cells": [
    {
      "cell_type": "code",
      "metadata": {
        "id": "E-t0JckzeDdr",
        "colab_type": "code",
        "colab": {}
      },
      "source": [
        "import pandas as pd\n",
        "import numpy as np\n",
        "import re\n",
        "import time\n",
        "import warnings\n",
        "from sklearn.feature_extraction.text import TfidfVectorizer, CountVectorizer\n",
        "from sklearn.svm import LinearSVC\n",
        "warnings.filterwarnings(action = 'ignore') \n"
      ],
      "execution_count": 0,
      "outputs": []
    },
    {
      "cell_type": "code",
      "metadata": {
        "id": "OQkfCtffdzFs",
        "colab_type": "code",
        "outputId": "baca6f58-b9ff-4a89-95c5-ea1fcf4e70dc",
        "colab": {
          "base_uri": "https://localhost:8080/",
          "height": 651
        }
      },
      "source": [
        "las_vegas_data= pd.read_pickle('/content/drive/My Drive/las_vegas_data_tokenized_final.pkl')\n",
        "las_vegas_data.head()"
      ],
      "execution_count": 40,
      "outputs": [
        {
          "output_type": "execute_result",
          "data": {
            "text/html": [
              "<div>\n",
              "<style scoped>\n",
              "    .dataframe tbody tr th:only-of-type {\n",
              "        vertical-align: middle;\n",
              "    }\n",
              "\n",
              "    .dataframe tbody tr th {\n",
              "        vertical-align: top;\n",
              "    }\n",
              "\n",
              "    .dataframe thead th {\n",
              "        text-align: right;\n",
              "    }\n",
              "</style>\n",
              "<table border=\"1\" class=\"dataframe\">\n",
              "  <thead>\n",
              "    <tr style=\"text-align: right;\">\n",
              "      <th></th>\n",
              "      <th>business_id</th>\n",
              "      <th>review_id</th>\n",
              "      <th>stars</th>\n",
              "      <th>latitude</th>\n",
              "      <th>longitude</th>\n",
              "      <th>text</th>\n",
              "      <th>postal_code</th>\n",
              "      <th>category</th>\n",
              "      <th>tokenized_text</th>\n",
              "      <th>token_tagged</th>\n",
              "      <th>imp_tags</th>\n",
              "      <th>label</th>\n",
              "      <th>polarity</th>\n",
              "    </tr>\n",
              "  </thead>\n",
              "  <tbody>\n",
              "    <tr>\n",
              "      <th>0</th>\n",
              "      <td>tstimHoMcYbkSC4eBA1wEg</td>\n",
              "      <td>iWFBGYotfzwiLsOka0e1Rw</td>\n",
              "      <td>4.5</td>\n",
              "      <td>36.195615</td>\n",
              "      <td>-115.040529</td>\n",
              "      <td>we found out about this gem from the mans cowo...</td>\n",
              "      <td>89156</td>\n",
              "      <td>Mexican</td>\n",
              "      <td>[found, gem, man, coworker, used, live, apt, c...</td>\n",
              "      <td>[(found, VBN), (gem, NN), (man, NN), (coworker...</td>\n",
              "      <td>[found, gem, man, coworker, used, live, apt, c...</td>\n",
              "      <td>positive</td>\n",
              "      <td>0.238242</td>\n",
              "    </tr>\n",
              "    <tr>\n",
              "      <th>1</th>\n",
              "      <td>tstimHoMcYbkSC4eBA1wEg</td>\n",
              "      <td>QhiVo4F8MFSoz1T7YggcXA</td>\n",
              "      <td>4.5</td>\n",
              "      <td>36.195615</td>\n",
              "      <td>-115.040529</td>\n",
              "      <td>the chips are a fried corn tortilla which were...</td>\n",
              "      <td>89156</td>\n",
              "      <td>Mexican</td>\n",
              "      <td>[chip, fried, corn, tortilla, surprisingly, am...</td>\n",
              "      <td>[(chip, NN), (fried, VBD), (corn, NN), (tortil...</td>\n",
              "      <td>[chip, fried, corn, tortilla, surprisingly, am...</td>\n",
              "      <td>positive</td>\n",
              "      <td>0.342857</td>\n",
              "    </tr>\n",
              "    <tr>\n",
              "      <th>3</th>\n",
              "      <td>tstimHoMcYbkSC4eBA1wEg</td>\n",
              "      <td>lJfGtkCc4in6Xcq-_Wtfwg</td>\n",
              "      <td>4.5</td>\n",
              "      <td>36.195615</td>\n",
              "      <td>-115.040529</td>\n",
              "      <td>ive ordered caldo de rez from here twice and b...</td>\n",
              "      <td>89156</td>\n",
              "      <td>Mexican</td>\n",
              "      <td>[ive, ordered, caldo, de, rez, twice, time, fo...</td>\n",
              "      <td>[(ive, JJ), (ordered, VBD), (caldo, NN), (de, ...</td>\n",
              "      <td>[ive, ordered, caldo, twice, time, food, sooo,...</td>\n",
              "      <td>positive</td>\n",
              "      <td>0.109524</td>\n",
              "    </tr>\n",
              "    <tr>\n",
              "      <th>4</th>\n",
              "      <td>tstimHoMcYbkSC4eBA1wEg</td>\n",
              "      <td>BKoH9aG1ZjUjy2brzkxzJw</td>\n",
              "      <td>4.5</td>\n",
              "      <td>36.195615</td>\n",
              "      <td>-115.040529</td>\n",
              "      <td>my boyfriend doesnt like mexican food yet he l...</td>\n",
              "      <td>89156</td>\n",
              "      <td>Mexican</td>\n",
              "      <td>[boyfriend, doesnt, like, mexican, food, yet, ...</td>\n",
              "      <td>[(boyfriend, VB), (doesnt, NN), (like, IN), (m...</td>\n",
              "      <td>[boyfriend, doesnt, mexican, food, yet, loved,...</td>\n",
              "      <td>positive</td>\n",
              "      <td>0.245631</td>\n",
              "    </tr>\n",
              "    <tr>\n",
              "      <th>6</th>\n",
              "      <td>tstimHoMcYbkSC4eBA1wEg</td>\n",
              "      <td>MM8yy3uGKCuAEqASCqQazQ</td>\n",
              "      <td>4.5</td>\n",
              "      <td>36.195615</td>\n",
              "      <td>-115.040529</td>\n",
              "      <td>the food was good everything was well priced  ...</td>\n",
              "      <td>89156</td>\n",
              "      <td>Mexican</td>\n",
              "      <td>[food, good, everything, well, priced, ordered...</td>\n",
              "      <td>[(food, NN), (good, JJ), (everything, NN), (we...</td>\n",
              "      <td>[food, good, everything, well, priced, ordered...</td>\n",
              "      <td>positive</td>\n",
              "      <td>0.293492</td>\n",
              "    </tr>\n",
              "  </tbody>\n",
              "</table>\n",
              "</div>"
            ],
            "text/plain": [
              "              business_id               review_id  ...     label  polarity\n",
              "0  tstimHoMcYbkSC4eBA1wEg  iWFBGYotfzwiLsOka0e1Rw  ...  positive  0.238242\n",
              "1  tstimHoMcYbkSC4eBA1wEg  QhiVo4F8MFSoz1T7YggcXA  ...  positive  0.342857\n",
              "3  tstimHoMcYbkSC4eBA1wEg  lJfGtkCc4in6Xcq-_Wtfwg  ...  positive  0.109524\n",
              "4  tstimHoMcYbkSC4eBA1wEg  BKoH9aG1ZjUjy2brzkxzJw  ...  positive  0.245631\n",
              "6  tstimHoMcYbkSC4eBA1wEg  MM8yy3uGKCuAEqASCqQazQ  ...  positive  0.293492\n",
              "\n",
              "[5 rows x 13 columns]"
            ]
          },
          "metadata": {
            "tags": []
          },
          "execution_count": 40
        }
      ]
    },
    {
      "cell_type": "code",
      "metadata": {
        "id": "Kqwsc6I_-EEB",
        "colab_type": "code",
        "colab": {}
      },
      "source": [
        ""
      ],
      "execution_count": 0,
      "outputs": []
    },
    {
      "cell_type": "code",
      "metadata": {
        "id": "RtsKIDn9d3jP",
        "colab_type": "code",
        "outputId": "91e4ab93-809b-4ce5-d123-fdf323de9cc4",
        "colab": {
          "base_uri": "https://localhost:8080/",
          "height": 54
        }
      },
      "source": [
        "start= time.time()\n",
        "vector = TfidfVectorizer(tokenizer=lambda doc: doc, lowercase=False, max_features=50000)\n",
        "vectorizer= vector.fit_transform(las_vegas_data['imp_tags'])\n",
        "print(\"Time to load data: {} seconds\".format(time.time() - start))\n",
        "# vectorizer.vocabulary_\n",
        "# len(vectorizer.vocabulary_)\n",
        "# vector.get_feature_names()"
      ],
      "execution_count": 41,
      "outputs": [
        {
          "output_type": "stream",
          "text": [
            "Time to load data: 19.593140602111816 seconds\n"
          ],
          "name": "stdout"
        }
      ]
    },
    {
      "cell_type": "code",
      "metadata": {
        "id": "GDebzfaBv7nh",
        "colab_type": "code",
        "colab": {}
      },
      "source": [
        "vector.get_feature_names()"
      ],
      "execution_count": 0,
      "outputs": []
    },
    {
      "cell_type": "code",
      "metadata": {
        "id": "psb9ux3FuclI",
        "colab_type": "code",
        "colab": {}
      },
      "source": [
        "{k: v for k, v in sorted(vector.vocabulary_.items(), key=lambda item: item[1], reverse=True)}"
      ],
      "execution_count": 0,
      "outputs": []
    },
    {
      "cell_type": "code",
      "metadata": {
        "id": "RvmbukSXd6O1",
        "colab_type": "code",
        "outputId": "a4e7df62-8347-4c92-a95f-fa95b4740b34",
        "colab": {
          "base_uri": "https://localhost:8080/",
          "height": 451
        }
      },
      "source": [
        "from sklearn.model_selection import cross_val_score\n",
        "from sklearn import metrics\n",
        "from sklearn.svm import LinearSVC\n",
        "scores= pd.DataFrame()\n",
        "\n",
        "C=[0.001,0.01,0.1,1,10,100]\n",
        "# C=[1]\n",
        "X=vectorizer\n",
        "y=las_vegas_data['label']\n",
        "dict_accuracy = {}\n",
        "# dict_roc ={}\n",
        "\n",
        "start= time.time()\n",
        "for c in C:\n",
        "  dict_accuracy[c] = []\n",
        "  # dict_roc[c] = []\n",
        "  print('Started for C=',c)\n",
        "  svm = LinearSVC(dual=False, max_iter=10000, C=c).fit(X, y)\n",
        "  print('Finished Modeling for C=',c)\n",
        "  acc_scores = cross_val_score(svm, X, y, cv=5, scoring='accuracy') \n",
        "  # roc_scores = cross_val_score(svm, X, y, cv=5, scoring='f1_macro')\n",
        "  dict_accuracy[c].append(acc_scores)\n",
        "  # roc_scores[c].append(roc_scores)\n",
        "  print('Stored c and scores for C=',c)\n",
        "  print('Finished for C=', c)\n",
        "\n",
        "print(\"Time to load data: {} seconds\".format(time.time() - start))"
      ],
      "execution_count": 42,
      "outputs": [
        {
          "output_type": "stream",
          "text": [
            "Started for C= 0.001\n",
            "Finished Modeling for C= 0.001\n",
            "Stored c and scores for C= 0.001\n",
            "Finished for C= 0.001\n",
            "Started for C= 0.01\n",
            "Finished Modeling for C= 0.01\n",
            "Stored c and scores for C= 0.01\n",
            "Finished for C= 0.01\n",
            "Started for C= 0.1\n",
            "Finished Modeling for C= 0.1\n",
            "Stored c and scores for C= 0.1\n",
            "Finished for C= 0.1\n",
            "Started for C= 1\n",
            "Finished Modeling for C= 1\n",
            "Stored c and scores for C= 1\n",
            "Finished for C= 1\n",
            "Started for C= 10\n",
            "Finished Modeling for C= 10\n",
            "Stored c and scores for C= 10\n",
            "Finished for C= 10\n",
            "Started for C= 100\n",
            "Finished Modeling for C= 100\n",
            "Stored c and scores for C= 100\n",
            "Finished for C= 100\n",
            "Time to load data: 800.8570532798767 seconds\n"
          ],
          "name": "stdout"
        }
      ]
    },
    {
      "cell_type": "code",
      "metadata": {
        "id": "EL2MACyTutBy",
        "colab_type": "code",
        "outputId": "b380ee40-f4eb-4f43-c11e-d16b2c5fd104",
        "colab": {
          "base_uri": "https://localhost:8080/",
          "height": 54
        }
      },
      "source": [
        "from sklearn.decomposition import TruncatedSVD\n",
        "from sklearn.model_selection import cross_val_score\n",
        "from sklearn.model_selection import train_test_split\n",
        "from sklearn.preprocessing import StandardScaler\n",
        "\n",
        "dict_accuracy_pca = {}\n",
        "X=vectorizer\n",
        "y=las_vegas_data['label']\n",
        "\n",
        "svd = TruncatedSVD(n_components=5, n_iter=7, random_state=42).fit(X)\n",
        "\n",
        "start= time.time()\n",
        "for components in range(1,7):\n",
        "  reducedX = svd.transform(X)\n",
        "  dict_accuracy_pca[components] =[]\n",
        "  svm_pca = LinearSVC(dual=False, max_iter=10000).fit(reducedX, y)\n",
        "  scores_pca = cross_val_score(svm_pca, reducedX, y,cv=5, scoring='accuracy')\n",
        "  dict_accuracy_pca[components].append(scores_pca)\n",
        "\n",
        "print(\"Time to load data: {} seconds\".format(time.time() - start))"
      ],
      "execution_count": 43,
      "outputs": [
        {
          "output_type": "stream",
          "text": [
            "Time to load data: 52.09232974052429 seconds\n"
          ],
          "name": "stdout"
        }
      ]
    },
    {
      "cell_type": "code",
      "metadata": {
        "id": "mj8jgNm6tY0I",
        "colab_type": "code",
        "outputId": "27b98291-1ace-4bfa-8ed3-e34b0760e0c4",
        "colab": {
          "base_uri": "https://localhost:8080/",
          "height": 305
        }
      },
      "source": [
        "import matplotlib.pyplot as plt\n",
        "fig, (ax1,ax2) = plt.subplots(2)\n",
        "for c, x in dict_accuracy.items(): \n",
        "    non_avg_score = {k:np.mean(np.array(v)) for k,v in dict_accuracy.items()}\n",
        "    avg_score = {k:np.mean(np.array(v)) for k,v in dict_accuracy_pca.items()}\n",
        "    acc_list = sorted(non_avg_score.items())\n",
        "    pca_list = sorted(avg_score.items())\n",
        "    x_plot, y_plot = zip(*acc_list)\n",
        "    x, y = zip(*pca_list)\n",
        "    ax1.plot(x_plot, y_plot, color='orange',marker='d',markersize=10)\n",
        "    ax2.plot(x, y, color='green',marker='d',markersize=10)\n",
        "\n",
        "# ax1.title('Accurracy with and without PCA', fontsize=12)    \n",
        "ax1.set_ylabel('Accuracy without PCA',fontsize=10)\n",
        "ax1.legend(['Accuracy'],loc='upper right',fontsize=10)\n",
        "ax1.set_xlabel('C- values',fontsize=10)\n",
        "ax1.set_xscale('log')\n",
        "\n",
        "ax2.set_ylabel('Accuracy with PCA',fontsize=10)\n",
        "ax2.legend(['Accuracy'],loc='bottom right',fontsize=10)\n",
        "ax2.set_xlabel('Component- values',fontsize=10)\n",
        "# ax2.set_xscale('log')\n",
        "plt.show()"
      ],
      "execution_count": 0,
      "outputs": [
        {
          "output_type": "display_data",
          "data": {
            "image/png": "[encoded data removed]",
            "text/plain": [
              "<Figure size 432x288 with 2 Axes>"
            ]
          },
          "metadata": {
            "tags": []
          }
        }
      ]
    },
    {
      "cell_type": "code",
      "metadata": {
        "id": "SGLiyJAgd8u8",
        "colab_type": "code",
        "colab": {}
      },
      "source": [
        "import matplotlib.pyplot as plt\n",
        "def plot_coefficients(classifier, feature_names, top_features=20):\n",
        " coef = classifier.coef_.ravel()\n",
        " top_positive_coefficients = np.argsort(coef)[-top_features:]\n",
        " top_negative_coefficients = np.argsort(coef)[:top_features]\n",
        " top_coefficients = np.hstack([top_negative_coefficients, top_positive_coefficients])\n",
        " plt.figure(figsize=(15, 5))\n",
        " colors = ['orange' if c < 0 else 'green' for c in coef[top_coefficients]]\n",
        " plt.bar(np.arange(2 * top_features), coef[top_coefficients], color=colors)\n",
        " feature_names = np.array(feature_names)\n",
        " plt.xticks(np.arange(1, 1 + 2 * top_features), feature_names[top_coefficients], rotation=60, ha='right')\n",
        " plt.show()\n",
        " "
      ],
      "execution_count": 0,
      "outputs": []
    },
    {
      "cell_type": "code",
      "metadata": {
        "id": "vlL8xXtXDOPw",
        "colab_type": "code",
        "outputId": "3758fec6-fc8e-475c-a1af-f6356dfb7da5",
        "colab": {
          "base_uri": "https://localhost:8080/",
          "height": 404
        }
      },
      "source": [
        "plot_coefficients(svm, vector.get_feature_names())"
      ],
      "execution_count": 0,
      "outputs": [
        {
          "output_type": "display_data",
          "data": {
            "image/png": "[encoded data removed]",
            "text/plain": [
              "<Figure size 1080x360 with 1 Axes>"
            ]
          },
          "metadata": {
            "tags": []
          }
        }
      ]
    },
    {
      "cell_type": "code",
      "metadata": {
        "id": "LpipZ5T8Mhme",
        "colab_type": "code",
        "colab": {
          "base_uri": "https://localhost:8080/",
          "height": 451
        },
        "outputId": "e4751dc6-24ee-4951-c631-e0b67355faaf"
      },
      "source": [
        "from sklearn.model_selection import cross_val_score\n",
        "from sklearn import metrics\n",
        "from sklearn.linear_model import LogisticRegression\n",
        "scores= pd.DataFrame()\n",
        "\n",
        "C=[0.001,0.01,0.1,1,10,100]\n",
        "X=vectorizer\n",
        "y=las_vegas_data['label']\n",
        "dict_accuracy = {}\n",
        "\n",
        "start= time.time()\n",
        "for c in C:\n",
        "  dict_accuracy[c] = []\n",
        "  print('Started for C=',c)\n",
        "  svm = LogisticRegression(max_iter=10000, C=c).fit(X, y)\n",
        "  print('Finished Modeling for C=',c)\n",
        "  acc_scores = cross_val_score(svm, X, y, cv=5, scoring='accuracy') \n",
        "  dict_accuracy[c].append(acc_scores)\n",
        "  print('Stored c and scores for C=',c)\n",
        "  print('Finished for C=', c)\n",
        "\n",
        "print(\"Time to load data: {} seconds\".format(time.time() - start))"
      ],
      "execution_count": 44,
      "outputs": [
        {
          "output_type": "stream",
          "text": [
            "Started for C= 0.001\n",
            "Finished Modeling for C= 0.001\n",
            "Stored c and scores for C= 0.001\n",
            "Finished for C= 0.001\n",
            "Started for C= 0.01\n",
            "Finished Modeling for C= 0.01\n",
            "Stored c and scores for C= 0.01\n",
            "Finished for C= 0.01\n",
            "Started for C= 0.1\n",
            "Finished Modeling for C= 0.1\n",
            "Stored c and scores for C= 0.1\n",
            "Finished for C= 0.1\n",
            "Started for C= 1\n",
            "Finished Modeling for C= 1\n",
            "Stored c and scores for C= 1\n",
            "Finished for C= 1\n",
            "Started for C= 10\n",
            "Finished Modeling for C= 10\n",
            "Stored c and scores for C= 10\n",
            "Finished for C= 10\n",
            "Started for C= 100\n",
            "Finished Modeling for C= 100\n",
            "Stored c and scores for C= 100\n",
            "Finished for C= 100\n",
            "Time to load data: 2373.499873638153 seconds\n"
          ],
          "name": "stdout"
        }
      ]
    },
    {
      "cell_type": "code",
      "metadata": {
        "id": "ERLFO1r4XdHs",
        "colab_type": "code",
        "colab": {}
      },
      "source": [
        ""
      ],
      "execution_count": 0,
      "outputs": []
    },
    {
      "cell_type": "code",
      "metadata": {
        "id": "WTagBaLrd8zi",
        "colab_type": "code",
        "colab": {}
      },
      "source": [
        "\n",
        "# las_vegas_coefs= pd.DataFrame({'score': svm.coef_[0], 'words': vector.get_feature_names()})\n",
        "# las_vegas_coefs.set_index('words', inplace=True)\n",
        "# las_vegas_coefs= las_vegas_coefs.sort_values(by='score', ascending=False)"
      ],
      "execution_count": 0,
      "outputs": []
    },
    {
      "cell_type": "code",
      "metadata": {
        "id": "kIpYi7LYd83P",
        "colab_type": "code",
        "colab": {}
      },
      "source": [
        ""
      ],
      "execution_count": 0,
      "outputs": []
    },
    {
      "cell_type": "code",
      "metadata": {
        "id": "6buc_rHld86L",
        "colab_type": "code",
        "colab": {}
      },
      "source": [
        ""
      ],
      "execution_count": 0,
      "outputs": []
    }
  ]
}