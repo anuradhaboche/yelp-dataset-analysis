{
  "nbformat": 4,
  "nbformat_minor": 0,
  "metadata": {
    "colab": {
      "name": "yelp-machine-learning-lda.ipynb",
      "provenance": [],
      "collapsed_sections": []
    },
    "kernelspec": {
      "name": "python3",
      "display_name": "Python 3"
    }
  },
  "cells": [
    {
      "cell_type": "code",
      "metadata": {
        "id": "3HvbD4kLmRu5",
        "colab_type": "code",
        "colab": {}
      },
      "source": [
        "import pandas as pd\n",
        "import warnings\n",
        "warnings.filterwarnings(action = 'ignore') "
      ],
      "execution_count": 0,
      "outputs": []
    },
    {
      "cell_type": "code",
      "metadata": {
        "id": "3PvYGk5iq_7a",
        "colab_type": "code",
        "colab": {}
      },
      "source": [
        "las_vegas_data= pd.read_pickle('/content/drive/My Drive/las_vegas_data_tokenized_final.pkl')"
      ],
      "execution_count": 0,
      "outputs": []
    },
    {
      "cell_type": "code",
      "metadata": {
        "id": "FZ_HXtZAxIbS",
        "colab_type": "code",
        "outputId": "0dac3bf8-b38a-4308-9f7b-13d0eb65f064",
        "colab": {
          "base_uri": "https://localhost:8080/",
          "height": 1000
        }
      },
      "source": [
        "las_vegas_data"
      ],
      "execution_count": 5,
      "outputs": [
        {
          "output_type": "execute_result",
          "data": {
            "text/html": [
              "<div>\n",
              "<style scoped>\n",
              "    .dataframe tbody tr th:only-of-type {\n",
              "        vertical-align: middle;\n",
              "    }\n",
              "\n",
              "    .dataframe tbody tr th {\n",
              "        vertical-align: top;\n",
              "    }\n",
              "\n",
              "    .dataframe thead th {\n",
              "        text-align: right;\n",
              "    }\n",
              "</style>\n",
              "<table border=\"1\" class=\"dataframe\">\n",
              "  <thead>\n",
              "    <tr style=\"text-align: right;\">\n",
              "      <th></th>\n",
              "      <th>business_id</th>\n",
              "      <th>review_id</th>\n",
              "      <th>stars</th>\n",
              "      <th>latitude</th>\n",
              "      <th>longitude</th>\n",
              "      <th>text</th>\n",
              "      <th>postal_code</th>\n",
              "      <th>category</th>\n",
              "      <th>tokenized_text</th>\n",
              "      <th>token_tagged</th>\n",
              "      <th>imp_tags</th>\n",
              "      <th>label</th>\n",
              "      <th>polarity</th>\n",
              "    </tr>\n",
              "  </thead>\n",
              "  <tbody>\n",
              "    <tr>\n",
              "      <th>0</th>\n",
              "      <td>tstimHoMcYbkSC4eBA1wEg</td>\n",
              "      <td>iWFBGYotfzwiLsOka0e1Rw</td>\n",
              "      <td>4.5</td>\n",
              "      <td>36.195615</td>\n",
              "      <td>-115.040529</td>\n",
              "      <td>we found out about this gem from the mans cowo...</td>\n",
              "      <td>89156</td>\n",
              "      <td>Mexican</td>\n",
              "      <td>[found, gem, man, coworker, used, live, apt, c...</td>\n",
              "      <td>[(found, VBN), (gem, NN), (man, NN), (coworker...</td>\n",
              "      <td>[found, gem, man, coworker, used, live, apt, c...</td>\n",
              "      <td>positive</td>\n",
              "      <td>0.238242</td>\n",
              "    </tr>\n",
              "    <tr>\n",
              "      <th>1</th>\n",
              "      <td>tstimHoMcYbkSC4eBA1wEg</td>\n",
              "      <td>QhiVo4F8MFSoz1T7YggcXA</td>\n",
              "      <td>4.5</td>\n",
              "      <td>36.195615</td>\n",
              "      <td>-115.040529</td>\n",
              "      <td>the chips are a fried corn tortilla which were...</td>\n",
              "      <td>89156</td>\n",
              "      <td>Mexican</td>\n",
              "      <td>[chip, fried, corn, tortilla, surprisingly, am...</td>\n",
              "      <td>[(chip, NN), (fried, VBD), (corn, NN), (tortil...</td>\n",
              "      <td>[chip, fried, corn, tortilla, surprisingly, am...</td>\n",
              "      <td>positive</td>\n",
              "      <td>0.342857</td>\n",
              "    </tr>\n",
              "    <tr>\n",
              "      <th>3</th>\n",
              "      <td>tstimHoMcYbkSC4eBA1wEg</td>\n",
              "      <td>lJfGtkCc4in6Xcq-_Wtfwg</td>\n",
              "      <td>4.5</td>\n",
              "      <td>36.195615</td>\n",
              "      <td>-115.040529</td>\n",
              "      <td>ive ordered caldo de rez from here twice and b...</td>\n",
              "      <td>89156</td>\n",
              "      <td>Mexican</td>\n",
              "      <td>[ive, ordered, caldo, de, rez, twice, time, fo...</td>\n",
              "      <td>[(ive, JJ), (ordered, VBD), (caldo, NN), (de, ...</td>\n",
              "      <td>[ive, ordered, caldo, twice, time, food, sooo,...</td>\n",
              "      <td>positive</td>\n",
              "      <td>0.109524</td>\n",
              "    </tr>\n",
              "    <tr>\n",
              "      <th>4</th>\n",
              "      <td>tstimHoMcYbkSC4eBA1wEg</td>\n",
              "      <td>BKoH9aG1ZjUjy2brzkxzJw</td>\n",
              "      <td>4.5</td>\n",
              "      <td>36.195615</td>\n",
              "      <td>-115.040529</td>\n",
              "      <td>my boyfriend doesnt like mexican food yet he l...</td>\n",
              "      <td>89156</td>\n",
              "      <td>Mexican</td>\n",
              "      <td>[boyfriend, doesnt, like, mexican, food, yet, ...</td>\n",
              "      <td>[(boyfriend, VB), (doesnt, NN), (like, IN), (m...</td>\n",
              "      <td>[boyfriend, doesnt, mexican, food, yet, loved,...</td>\n",
              "      <td>positive</td>\n",
              "      <td>0.245631</td>\n",
              "    </tr>\n",
              "    <tr>\n",
              "      <th>6</th>\n",
              "      <td>tstimHoMcYbkSC4eBA1wEg</td>\n",
              "      <td>MM8yy3uGKCuAEqASCqQazQ</td>\n",
              "      <td>4.5</td>\n",
              "      <td>36.195615</td>\n",
              "      <td>-115.040529</td>\n",
              "      <td>the food was good everything was well priced  ...</td>\n",
              "      <td>89156</td>\n",
              "      <td>Mexican</td>\n",
              "      <td>[food, good, everything, well, priced, ordered...</td>\n",
              "      <td>[(food, NN), (good, JJ), (everything, NN), (we...</td>\n",
              "      <td>[food, good, everything, well, priced, ordered...</td>\n",
              "      <td>positive</td>\n",
              "      <td>0.293492</td>\n",
              "    </tr>\n",
              "    <tr>\n",
              "      <th>...</th>\n",
              "      <td>...</td>\n",
              "      <td>...</td>\n",
              "      <td>...</td>\n",
              "      <td>...</td>\n",
              "      <td>...</td>\n",
              "      <td>...</td>\n",
              "      <td>...</td>\n",
              "      <td>...</td>\n",
              "      <td>...</td>\n",
              "      <td>...</td>\n",
              "      <td>...</td>\n",
              "      <td>...</td>\n",
              "      <td>...</td>\n",
              "    </tr>\n",
              "    <tr>\n",
              "      <th>712587</th>\n",
              "      <td>p5rpYtxS5xPQjt3MXYVEwA</td>\n",
              "      <td>Wf7NrNUdaxJIn_tqWLL2tQ</td>\n",
              "      <td>4.0</td>\n",
              "      <td>36.026212</td>\n",
              "      <td>-115.119341</td>\n",
              "      <td>i like the novelty of greens and proteins but ...</td>\n",
              "      <td>89123</td>\n",
              "      <td>American</td>\n",
              "      <td>[like, novelty, green, protein, find, executio...</td>\n",
              "      <td>[(like, IN), (novelty, NN), (green, JJ), (prot...</td>\n",
              "      <td>[novelty, green, protein, find, execution, bit...</td>\n",
              "      <td>positive</td>\n",
              "      <td>0.182292</td>\n",
              "    </tr>\n",
              "    <tr>\n",
              "      <th>712588</th>\n",
              "      <td>p5rpYtxS5xPQjt3MXYVEwA</td>\n",
              "      <td>CXIS2OWw0xYkMATJtv4DsQ</td>\n",
              "      <td>4.0</td>\n",
              "      <td>36.026212</td>\n",
              "      <td>-115.119341</td>\n",
              "      <td>this place is hugely popular with people leavi...</td>\n",
              "      <td>89123</td>\n",
              "      <td>American</td>\n",
              "      <td>[place, hugely, popular, people, leaving, gym,...</td>\n",
              "      <td>[(place, NN), (hugely, RB), (popular, JJ), (pe...</td>\n",
              "      <td>[place, hugely, popular, people, leaving, gym,...</td>\n",
              "      <td>positive</td>\n",
              "      <td>0.228333</td>\n",
              "    </tr>\n",
              "    <tr>\n",
              "      <th>712590</th>\n",
              "      <td>p5rpYtxS5xPQjt3MXYVEwA</td>\n",
              "      <td>pn5TS8GiEs0iE_O1dTkWuQ</td>\n",
              "      <td>4.0</td>\n",
              "      <td>36.026212</td>\n",
              "      <td>-115.119341</td>\n",
              "      <td>i ordered the chicken quinoa salad i cant beli...</td>\n",
              "      <td>89123</td>\n",
              "      <td>American</td>\n",
              "      <td>[ordered, chicken, quinoa, salad, cant, believ...</td>\n",
              "      <td>[(ordered, VBN), (chicken, JJ), (quinoa, NN), ...</td>\n",
              "      <td>[ordered, chicken, quinoa, salad, cant, believ...</td>\n",
              "      <td>positive</td>\n",
              "      <td>0.257778</td>\n",
              "    </tr>\n",
              "    <tr>\n",
              "      <th>712591</th>\n",
              "      <td>p5rpYtxS5xPQjt3MXYVEwA</td>\n",
              "      <td>ACUg1ScLb6pwL6jJyp65-w</td>\n",
              "      <td>4.0</td>\n",
              "      <td>36.026212</td>\n",
              "      <td>-115.119341</td>\n",
              "      <td>i love this place salmon with steamed asparagu...</td>\n",
              "      <td>89123</td>\n",
              "      <td>American</td>\n",
              "      <td>[love, place, salmon, steamed, asparagus, brow...</td>\n",
              "      <td>[(love, VB), (place, NN), (salmon, NN), (steam...</td>\n",
              "      <td>[love, place, salmon, steamed, asparagus, brow...</td>\n",
              "      <td>positive</td>\n",
              "      <td>0.471875</td>\n",
              "    </tr>\n",
              "    <tr>\n",
              "      <th>712593</th>\n",
              "      <td>p5rpYtxS5xPQjt3MXYVEwA</td>\n",
              "      <td>PUKKFmFVY7WScEh4zHpIRQ</td>\n",
              "      <td>4.0</td>\n",
              "      <td>36.026212</td>\n",
              "      <td>-115.119341</td>\n",
              "      <td>greens and proteins on eastern ave is a great ...</td>\n",
              "      <td>89123</td>\n",
              "      <td>American</td>\n",
              "      <td>[green, protein, eastern, ave, great, place, g...</td>\n",
              "      <td>[(green, JJ), (protein, NN), (eastern, JJ), (a...</td>\n",
              "      <td>[green, protein, eastern, ave, great, place, g...</td>\n",
              "      <td>positive</td>\n",
              "      <td>0.459737</td>\n",
              "    </tr>\n",
              "  </tbody>\n",
              "</table>\n",
              "<p>559223 rows × 13 columns</p>\n",
              "</div>"
            ],
            "text/plain": [
              "                   business_id               review_id  ...     label  polarity\n",
              "0       tstimHoMcYbkSC4eBA1wEg  iWFBGYotfzwiLsOka0e1Rw  ...  positive  0.238242\n",
              "1       tstimHoMcYbkSC4eBA1wEg  QhiVo4F8MFSoz1T7YggcXA  ...  positive  0.342857\n",
              "3       tstimHoMcYbkSC4eBA1wEg  lJfGtkCc4in6Xcq-_Wtfwg  ...  positive  0.109524\n",
              "4       tstimHoMcYbkSC4eBA1wEg  BKoH9aG1ZjUjy2brzkxzJw  ...  positive  0.245631\n",
              "6       tstimHoMcYbkSC4eBA1wEg  MM8yy3uGKCuAEqASCqQazQ  ...  positive  0.293492\n",
              "...                        ...                     ...  ...       ...       ...\n",
              "712587  p5rpYtxS5xPQjt3MXYVEwA  Wf7NrNUdaxJIn_tqWLL2tQ  ...  positive  0.182292\n",
              "712588  p5rpYtxS5xPQjt3MXYVEwA  CXIS2OWw0xYkMATJtv4DsQ  ...  positive  0.228333\n",
              "712590  p5rpYtxS5xPQjt3MXYVEwA  pn5TS8GiEs0iE_O1dTkWuQ  ...  positive  0.257778\n",
              "712591  p5rpYtxS5xPQjt3MXYVEwA  ACUg1ScLb6pwL6jJyp65-w  ...  positive  0.471875\n",
              "712593  p5rpYtxS5xPQjt3MXYVEwA  PUKKFmFVY7WScEh4zHpIRQ  ...  positive  0.459737\n",
              "\n",
              "[559223 rows x 13 columns]"
            ]
          },
          "metadata": {
            "tags": []
          },
          "execution_count": 5
        }
      ]
    },
    {
      "cell_type": "code",
      "metadata": {
        "id": "2yjDKiLyrB7M",
        "colab_type": "code",
        "colab": {}
      },
      "source": [
        "from sklearn.feature_extraction.text import CountVectorizer\n",
        "import numpy as np\n",
        "import matplotlib.pyplot as plt\n",
        "import seaborn as sns\n",
        "sns.set_style('whitegrid')\n",
        "\n",
        "%matplotlib inline\n",
        "# Helper function\n",
        "def plot_10_most_common_words(count_data, count_vectorizer):\n",
        "    import matplotlib.pyplot as plt\n",
        "    words = count_vectorizer.get_feature_names()\n",
        "    print('Features accquired')\n",
        "    total_counts = np.zeros(len(words))\n",
        "    for t in count_data:\n",
        "        total_counts+=t.toarray()[0]\n",
        "    print('total_counts done')\n",
        "    count_dict = (zip(words, total_counts))\n",
        "    count_dict = sorted(count_dict, key=lambda x:x[1], reverse=True)[0:10]\n",
        "    print('Forming dictionary')\n",
        "    words = [w[0] for w in count_dict]\n",
        "    counts = [w[1] for w in count_dict]\n",
        "    x_pos = np.arange(len(words)) \n",
        "    print('X_pos done and started to plot')\n",
        "    plt.figure(2, figsize=(15, 15/1.6180))\n",
        "    plt.subplot(title='10 most common words')\n",
        "    sns.set_context(\"notebook\", font_scale=1.25, rc={\"lines.linewidth\": 2.5})\n",
        "    sns.barplot(x_pos, counts, palette='husl')\n",
        "    plt.xticks(x_pos, words, rotation=90) \n",
        "    plt.xlabel('words')\n",
        "    plt.ylabel('counts')\n",
        "    plt.show()\n"
      ],
      "execution_count": 0,
      "outputs": []
    },
    {
      "cell_type": "code",
      "metadata": {
        "id": "ege8XcQ9w0If",
        "colab_type": "code",
        "outputId": "f8d049c4-c9ac-42b4-a943-d9d654c9f243",
        "colab": {
          "base_uri": "https://localhost:8080/",
          "height": 744
        }
      },
      "source": [
        "# Initialise the count vectorizer with the English stop words\n",
        "count_vectorizer = CountVectorizer(tokenizer=lambda doc: doc, lowercase=False)\n",
        "# Fit and transform the processed titles\n",
        "print('Features transforming')\n",
        "count_data = count_vectorizer.fit_transform(las_vegas_data['imp_tags'])\n",
        "\n",
        "# Visualise the 10 most common words\n",
        "print('Plotting the common words')\n",
        "plot_10_most_common_words(count_data, count_vectorizer)"
      ],
      "execution_count": 7,
      "outputs": [
        {
          "output_type": "stream",
          "text": [
            "Features transforming\n",
            "Plotting the common words\n",
            "Features accquired\n",
            "total_counts done\n",
            "Forming dictionary\n",
            "X_pos done and started to plot\n"
          ],
          "name": "stdout"
        },
        {
          "output_type": "display_data",
          "data": {
            "image/png": "[encoded data removed]",
            "text/plain": [
              "<Figure size 1080x667.491 with 1 Axes>"
            ]
          },
          "metadata": {
            "tags": []
          }
        }
      ]
    },
    {
      "cell_type": "code",
      "metadata": {
        "id": "URBz-3CnxFLH",
        "colab_type": "code",
        "outputId": "aa11c5a0-6bc4-4b8c-baff-7b09a37fb692",
        "colab": {
          "base_uri": "https://localhost:8080/",
          "height": 319
        }
      },
      "source": [
        "import warnings\n",
        "warnings.simplefilter(\"ignore\", DeprecationWarning)\n",
        "# Load the LDA model from sk-learn\n",
        "from sklearn.decomposition import LatentDirichletAllocation as LDA\n",
        " \n",
        "# Helper function\n",
        "def print_topics(model, count_vectorizer, n_top_words):\n",
        "    words = count_vectorizer.get_feature_names()\n",
        "    for topic_idx, topic in enumerate(model.components_):\n",
        "        print(\"\\nTopic #%d:\" % topic_idx)\n",
        "        print(\" \".join([words[i]\n",
        "                        for i in topic.argsort()[:-n_top_words - 1:-1]]))\n",
        "        \n",
        "# Tweak the two parameters below\n",
        "number_topics = 5\n",
        "number_words = 10\n",
        "# Create and fit the LDA model\n",
        "lda = LDA(n_components=number_topics, n_jobs=-1)\n",
        "lda.fit(count_data)\n",
        "# Print the topics found by the LDA model\n",
        "print(\"Topics found via LDA:\")\n",
        "print_topics(lda, count_vectorizer, number_words)"
      ],
      "execution_count": 0,
      "outputs": [
        {
          "output_type": "stream",
          "text": [
            "Topics found via LDA:\n",
            "\n",
            "Topic #0:\n",
            "food great service amazing place time vega best back good\n",
            "\n",
            "Topic #1:\n",
            "good chicken burger like ordered cheese fry pizza sauce place\n",
            "\n",
            "Topic #2:\n",
            "place food good great service sushi vega love time always\n",
            "\n",
            "Topic #3:\n",
            "food u time order get service place one table like\n",
            "\n",
            "Topic #4:\n",
            "dish restaurant menu dessert good steak one sauce like ordered\n"
          ],
          "name": "stdout"
        }
      ]
    },
    {
      "cell_type": "code",
      "metadata": {
        "id": "ZO8c2hsIX9P8",
        "colab_type": "code",
        "colab": {}
      },
      "source": [
        "count_vectorizer.vocabulary_"
      ],
      "execution_count": 0,
      "outputs": []
    },
    {
      "cell_type": "code",
      "metadata": {
        "id": "jkfaowOWavpp",
        "colab_type": "code",
        "colab": {}
      },
      "source": [
        "{k: v for k, v in sorted(count_vectorizer.vocabulary_.items(), key=lambda item: item[1], reverse=True)}"
      ],
      "execution_count": 0,
      "outputs": []
    },
    {
      "cell_type": "code",
      "metadata": {
        "id": "7Oz9c8UbeAW3",
        "colab_type": "code",
        "colab": {}
      },
      "source": [
        ""
      ],
      "execution_count": 0,
      "outputs": []
    }
  ]
}